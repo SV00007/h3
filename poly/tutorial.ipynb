{
 "cells": [
  {
   "cell_type": "markdown",
   "id": "29ff917d-82f6-4f70-9263-6abc9a596021",
   "metadata": {},
   "source": [
    "# Using `h3-py` to convert between polygons and H3 cells\n",
    "\n",
    "We can use `h3-py` to convert GeoJSON-like Polygons and MultiPolygons to sets of H3 cells and vice versa.\n",
    "\n",
    "First we'll import relevant libraries, and define a plotting helper function to visualize the shapes we're dealing with."
   ]
  },
  {
   "cell_type": "code",
   "execution_count": null,
   "id": "595a3eea-392d-44e1-a657-1a2771b08947",
   "metadata": {},
   "outputs": [],
   "source": [
    "import h3\n",
    "\n",
    "import geopandas\n",
    "import geodatasets\n",
    "import contextily as cx\n",
    "import matplotlib.pyplot as plt\n",
    "\n",
    "def plot_df(df, column=None, ax=None):\n",
    "    'Plot based on the `geometry` column of a GeoPandas dataframe'\n",
    "    df = df.copy()\n",
    "    df = df.to_crs(epsg=3857) # web mercator\n",
    "\n",
    "    if ax is None:\n",
    "        fig, ax = plt.subplots(figsize=(8,8))\n",
    "    ax.get_xaxis().set_visible(False)\n",
    "    ax.get_yaxis().set_visible(False)\n",
    "    \n",
    "    df.plot(\n",
    "        ax=ax,\n",
    "        alpha=0.5, edgecolor='k',\n",
    "        column=column, categorical=True,\n",
    "        legend=True, legend_kwds={'loc': 'upper left'}, \n",
    "    )\n",
    "    cx.add_basemap(ax, crs=df.crs, source=cx.providers.CartoDB.Positron)\n",
    "\n",
    "def plot_shape(shape, ax=None):\n",
    "    df = geopandas.GeoDataFrame({'geometry': [shape]}, crs='EPSG:4326')\n",
    "    plot_df(df, ax=ax)\n",
    "\n",
    "def plot_cells(cells, ax=None):\n",
    "    shape = h3.cells_to_h3shape(cells)\n",
    "    plot_shape(shape, ax=ax)"
   ]
  },
  {
   "cell_type": "markdown",
   "id": "06330c3d-ad4b-494d-a760-98aedeafd65b",
   "metadata": {},
   "source": [
    "We start with a GeoPandas `GeoDataFrame` describing the five New York city boroughs."
   ]
  },
  {
   "cell_type": "code",
   "execution_count": null,
   "id": "a872e2a1-dd51-4262-bc98-800500121bc0",
   "metadata": {},
   "outputs": [],
   "source": [
    "df = geopandas.read_file(geodatasets.get_path('nybb'))\n",
    "df"
   ]
  },
  {
   "cell_type": "code",
   "execution_count": null,
   "id": "bbca69dc-1722-4be4-a1bb-329d7e77ec83",
   "metadata": {},
   "outputs": [],
   "source": [
    "plot_df(df, column='BoroName')"
   ]
  },
  {
   "cell_type": "markdown",
   "id": "a060b933-8f32-402b-ac61-7cd04dcf70df",
   "metadata": {},
   "source": [
    "## Use a compatible CRS before applying H3 functions\n",
    "\n",
    "The function `h3.geo_to_cells(geo, res)` takes some `geo` object that implements the `__geo_interface__` (https://gist.github.com/sgillies/2217756) — like a Shapely Polygon or MultiPolygon — and converts it to the set of cells whose centroids are contained in `geo`.\n",
    "\n",
    "**Note**: Be careful about what CRS you are using. `h3-py` expects coordinates as latitude-longitude pairs. The CRS of the current dataframe (EPSG:2263) gives coordinates in feet! You should first convert the data to something compatible. A common choice is EPSG:4326/WGS84. You'll get incorrect results if you apply `h3.geo_to_cells` without converting."
   ]
  },
  {
   "cell_type": "code",
   "execution_count": null,
   "id": "83fced81-89f1-4795-84b8-c852c8c3f938",
   "metadata": {},
   "outputs": [],
   "source": [
    "# Original CRS\n",
    "df.crs"
   ]
  },
  {
   "cell_type": "code",
   "execution_count": null,
   "id": "00e1026a-0a0c-448f-9223-8ce6d4d5a9a3",
   "metadata": {},
   "outputs": [],
   "source": [
    "# Converting to EPSG:4326/WGS84\n",
    "df = df.to_crs(epsg=4326)\n",
    "df.crs"
   ]
  },
  {
   "cell_type": "code",
   "execution_count": null,
   "id": "81071108-3c13-4e10-8608-892ed3742054",
   "metadata": {},
   "outputs": [],
   "source": [
    "# Note that the `geometry` column now has coordinates in degrees\n",
    "df"
   ]
  },
  {
   "cell_type": "markdown",
   "id": "01ca62b0-61f3-4204-bb0f-a14c9859cd4d",
   "metadata": {},
   "source": [
    "## Converting a geo to a collection of H3 cells\n",
    "\n",
    "First, we select one of the boroughs and get the Shapely `MultiPolygon` describing it."
   ]
  },
  {
   "cell_type": "code",
   "execution_count": null,
   "id": "0be200e1-2536-4430-90ef-38dc72a75f9f",
   "metadata": {},
   "outputs": [],
   "source": [
    "geo = df.geometry[0]\n",
    "type(geo)"
   ]
  },
  {
   "cell_type": "markdown",
   "id": "0a3c3c9c-b547-4a69-9030-fb88f486c4aa",
   "metadata": {},
   "source": [
    "We can use `h3.geo_to_cells()` to get the associated set of H3 cells at resolution 6."
   ]
  },
  {
   "cell_type": "code",
   "execution_count": null,
   "id": "c1a12743-b5e2-4cd1-a7fd-848e920fa928",
   "metadata": {},
   "outputs": [],
   "source": [
    "cells = h3.geo_to_cells(geo, res=6)\n",
    "cells"
   ]
  },
  {
   "cell_type": "markdown",
   "id": "d568b20e-88cb-4269-99ce-dc96a73d93d1",
   "metadata": {},
   "source": [
    "# Visualizing H3 cells\n",
    "\n",
    "To visualize these cells, we can convert the set back to a Polygon or MultiPolygon using `h3.cells_to_shape()`.\n",
    "Note that the returned object will be either `H3Poly` or `H3MulitPoly`, each of which implement `__geo_interface__`.\n",
    "Because they impelement this interface, these objects will be compatible with Python libraries like GeoPandas."
   ]
  },
  {
   "cell_type": "code",
   "execution_count": null,
   "id": "652576b9-98e5-439c-be95-a25ae8d86087",
   "metadata": {},
   "outputs": [],
   "source": [
    "h3shape = h3.cells_to_h3shape(cells)\n",
    "h3shape"
   ]
  },
  {
   "cell_type": "code",
   "execution_count": null,
   "id": "3f10939f-a520-4417-9c47-b6bdbc3ed09c",
   "metadata": {},
   "outputs": [],
   "source": [
    "h3shape.__geo_interface__"
   ]
  },
  {
   "cell_type": "markdown",
   "id": "fc49cfd6-2c9d-46c1-8901-e277d2cc3617",
   "metadata": {},
   "source": [
    "To demonstrate, we'll convert all of the boroughs and plot the results."
   ]
  },
  {
   "cell_type": "code",
   "execution_count": null,
   "id": "45c98d61-ac9f-4832-bad6-57dfca40e4c1",
   "metadata": {},
   "outputs": [],
   "source": [
    "res = 8\n",
    "\n",
    "s = df.geometry.apply(lambda x: h3.geo_to_cells(x, res))\n",
    "s"
   ]
  },
  {
   "cell_type": "code",
   "execution_count": null,
   "id": "04ff8c9c-3e7c-4346-b890-9ddf2911baa4",
   "metadata": {},
   "outputs": [],
   "source": [
    "s = s.apply(h3.cells_to_h3shape)\n",
    "s"
   ]
  },
  {
   "cell_type": "code",
   "execution_count": null,
   "id": "bb871b94-beb5-4eb4-83ec-3251d13ef3fc",
   "metadata": {},
   "outputs": [],
   "source": [
    "s[1]"
   ]
  },
  {
   "cell_type": "code",
   "execution_count": null,
   "id": "14890fba-fe1c-4343-8820-4db1c3c165ba",
   "metadata": {},
   "outputs": [],
   "source": [
    "df.geometry = s\n",
    "df"
   ]
  },
  {
   "cell_type": "code",
   "execution_count": null,
   "id": "7506a042-c8d7-4475-b7a1-c43ec80c2e26",
   "metadata": {},
   "outputs": [],
   "source": [
    "# TODO: note that geopandas automaticallyc converst the H3Shape objects to Shapely objects via `__geo_interface__`\n",
    "type(df.geometry[1])"
   ]
  },
  {
   "cell_type": "code",
   "execution_count": null,
   "id": "8655f681-b929-41e6-ae45-dbbff5da90e0",
   "metadata": {},
   "outputs": [],
   "source": [
    "plot_df(df, column='BoroName')"
   ]
  },
  {
   "cell_type": "markdown",
   "id": "54de7696-5934-4257-847e-08384f68d78d",
   "metadata": {},
   "source": [
    "# H3Poly and H3MultiPoly details\n",
    "\n",
    "As demonstrated above, we expect `h3.geo_to_cells()` and `h3.cells_to_geo()` to cover most common use cases.\n",
    "For more control, the API provides some additional objects and functions.\n",
    "\n",
    "The following classes describe GeoJSON-like Polygons and MultiPolygons:\n",
    "\n",
    "- `H3Shape`: abstract base class; parent of the two below\n",
    "- `H3Poly`: similar to a Shapely `Polygon`\n",
    "- `H3MultiPoly`: similar to a Shapely `MultiPolyon`\n",
    "\n",
    "\n",
    "The following functions convert between `H3Shape` objects and cells:\n",
    "\n",
    "- `h3shape_to_cells`\n",
    "- `cells_to_h3shape`\n",
    "\n",
    "\n",
    "The following functions convert between \"geo\" objects and `H3Shape` objects.\n",
    "\n",
    "- `geo_to_h3shape`\n",
    "- `h3shape_to_geo`\n",
    "\n",
    "Here, a \"geo\" object is either:\n",
    "\n",
    "- anything that implements `__geo_interface__`\n",
    "- a dictionary like what is output by `__geo_interface__`\n",
    "\n",
    "Note that if an object `a` is an `H3Shape` (either `H3Poly` or `H3MultiPoly`)\n",
    "then the following two expressions are equivalent:\n",
    "\n",
    "- `h3shape_to_geo(a)`\n",
    "- `a.__geo_interface__`\n",
    "\n",
    "Also note that if `a` is an `H3Shape`, then `a` \"passes through\" `geo_to_h3shape`: `geo_to_h3shape(a) == a`.\n",
    "\n",
    "\n",
    "Summarizing, `H3Shape` objects are the intermediate representation used to translate from\n",
    "external objects that implement `__geo_interface__` (like you'd have from using GeoPandas).\n",
    "\n",
    "```\n",
    "\"Geo\" object <-> H3Shape <-> H3 cells\n",
    "```"
   ]
  },
  {
   "cell_type": "code",
   "execution_count": null,
   "id": "cac95253-5960-42ad-9c36-7e55f60a3d55",
   "metadata": {},
   "outputs": [],
   "source": [
    "h3.H3Poly?"
   ]
  },
  {
   "cell_type": "code",
   "execution_count": null,
   "id": "5850a20c-b09a-4b7f-8522-aa408b896e02",
   "metadata": {},
   "outputs": [],
   "source": [
    "# TODO\n",
    "h3.H3MultiPoly?"
   ]
  },
  {
   "cell_type": "code",
   "execution_count": null,
   "id": "8fb43747-680b-43ca-91c2-53fc2055245c",
   "metadata": {},
   "outputs": [],
   "source": [
    "# can iterate through multipolygons\n",
    "# can get len\n",
    "# how to read the description\n",
    "# h3 polygons don't close. order doesn't matter. not differences when converting to geojson\n",
    "\n",
    "# plot shape helper"
   ]
  },
  {
   "cell_type": "markdown",
   "id": "c5a41e2b-0c9e-45f5-8005-51af2ef8af32",
   "metadata": {},
   "source": [
    "# H3Poly and H3MultiPoly\n",
    "\n",
    "We can create a simple `H3Poly` object by providing a list of the **latitude/longitude pairs** that describe its exterior."
   ]
  },
  {
   "cell_type": "code",
   "execution_count": null,
   "id": "1e9e3e2a-a4cf-43df-a498-ee7d15a8cc4b",
   "metadata": {},
   "outputs": [],
   "source": [
    "outer = [\n",
    "    (37.804, -122.412),\n",
    "    (37.778, -122.507),\n",
    "    (37.733, -122.501)\n",
    "]\n",
    "\n",
    "hole1 = [\n",
    "    (37.782, -122.449),\n",
    "    (37.779, -122.465),\n",
    "    (37.788, -122.454),\n",
    "]\n",
    "\n",
    "hole2 = [\n",
    "    (37.771, -122.484),\n",
    "    (37.761, -122.481),\n",
    "    (37.758, -122.494),\n",
    "    (37.769, -122.496),\n",
    "]\n",
    "\n",
    "poly = h3.H3Poly(outer)\n",
    "print(poly)\n",
    "plot_shape(poly)"
   ]
  },
  {
   "cell_type": "markdown",
   "id": "5b49dc26-12a2-4ca6-aa26-e3548461024e",
   "metadata": {},
   "source": [
    "Holes can be added to the polygon by appending additional lat/lng lists."
   ]
  },
  {
   "cell_type": "code",
   "execution_count": null,
   "id": "6872b341-afc9-4405-b27a-b5f2b8a19847",
   "metadata": {},
   "outputs": [],
   "source": [
    "poly = h3.H3Poly(outer, hole1)\n",
    "print(poly)\n",
    "plot_shape(poly)"
   ]
  },
  {
   "cell_type": "code",
   "execution_count": null,
   "id": "2d7ae0fb-fa96-46fe-8d06-7778575642dd",
   "metadata": {},
   "outputs": [],
   "source": [
    "poly = h3.H3Poly(outer, hole1, hole2)\n",
    "print(poly)\n",
    "plot_shape(poly)"
   ]
  },
  {
   "cell_type": "markdown",
   "id": "62317cfd-8a0e-4c8a-b899-131acdec4305",
   "metadata": {},
   "source": [
    "The `H3Poly` string representation given by its `__repr__` shows the number of vertices in the outer loop of the polygon, followed\n",
    "by the number of vertices in each hole.\n",
    "\n",
    "- `H3Poly.outer` gives the list of lat/lng points making up the outer loop of the polygon.\n",
    "- `H3Poly.holes` gives each of the lists of lat/lng points making up the holes of the polygon."
   ]
  },
  {
   "cell_type": "code",
   "execution_count": null,
   "id": "97c8aa44-12fb-4c47-9254-d931522575ed",
   "metadata": {},
   "outputs": [],
   "source": [
    "poly = h3.H3Poly(outer, hole1, hole2)\n",
    "poly"
   ]
  },
  {
   "cell_type": "code",
   "execution_count": null,
   "id": "150ae04c-bae2-4b7e-88d0-f5fcf0835e7b",
   "metadata": {},
   "outputs": [],
   "source": [
    "poly.outer"
   ]
  },
  {
   "cell_type": "code",
   "execution_count": null,
   "id": "84061e68-60f3-4df4-a279-a0630af7dcc2",
   "metadata": {},
   "outputs": [],
   "source": [
    "poly.holes"
   ]
  },
  {
   "cell_type": "markdown",
   "id": "ae175854-6770-44aa-b796-8d9390f7c856",
   "metadata": {},
   "source": [
    "`H3Poly.__geo_interface__` gives a GeoJSON representation of the polygon as described in https://gist.github.com/sgillies/2217756\n",
    "\n",
    "**Note the differences in this representation**: Points are given in **lng/lat order**, and the last vertex repeats the first."
   ]
  },
  {
   "cell_type": "code",
   "execution_count": null,
   "id": "fb79c742-27aa-481c-971b-28c100109efe",
   "metadata": {},
   "outputs": [],
   "source": [
    "poly.__geo_interface__"
   ]
  },
  {
   "cell_type": "markdown",
   "id": "8f567fae-9f4e-472f-afcd-bd6f7bb32cba",
   "metadata": {},
   "source": [
    "Note that we can create an `H3Poly` object from a GeoJSON-like dictionary using `h3.geo_to_h3shape()`."
   ]
  },
  {
   "cell_type": "code",
   "execution_count": null,
   "id": "42d7d580-2bba-4cd3-8d13-2434323e4081",
   "metadata": {},
   "outputs": [],
   "source": [
    "h3.geo_to_h3shape(poly.__geo_interface__)"
   ]
  },
  {
   "cell_type": "code",
   "execution_count": null,
   "id": "8b6196ad-113d-4371-bf67-d82bcb84e4a2",
   "metadata": {},
   "outputs": [],
   "source": [
    "h3.geo_to_h3shape(poly.__geo_interface__).__geo_interface__"
   ]
  },
  {
   "cell_type": "markdown",
   "id": "faa6a726-2adc-40cc-9e1e-5d4ee66a08ea",
   "metadata": {},
   "source": [
    "## H3 Polygons don't need to follow the right-hand rule\n",
    "\n",
    "`H3Poly` objects do not need to follow the \"right-hand rule\", unlike GeoJSON Polygons. \n",
    "The right-hand rule requires that vertices in outer loops are listed in counterclockwise\n",
    "order and holes are listed in clockwise order.\n",
    "`h3-py` accepts loops in any order and will do the correct thing when, for example,\n",
    "converting to sets of cells. However, `h3-py` won't re-order your loops to\n",
    "conform to the right-hand rule, so be careful if you're using `__geo_interface__` to plot them.\n",
    "\n",
    "This is only a concern when creating `H3Poly` objects from external input; `H3Poly` or `H3MultiPoly`\n",
    "objects created through `h3.cells_to_shape()` **will respect the right-hand rule**.\n",
    "\n",
    "For example, if we reverse the order of one of the holes in our example polygon,\n",
    "the hole won't be rendered correctly, but the conversion to cells will still be correct."
   ]
  },
  {
   "cell_type": "code",
   "execution_count": null,
   "id": "143c911d-e8df-496b-8b08-cb3587f68450",
   "metadata": {},
   "outputs": [],
   "source": [
    "def plot_shape_and_cells(shape, res=9):\n",
    "    fig, axs = plt.subplots(1,2, figsize=(10,5), sharex=True, sharey=True)\n",
    "    plot_shape(shape, ax=axs[0])\n",
    "    plot_cells(h3.h3shape_to_cells(shape, res), ax=axs[1])\n",
    "    fig.tight_layout()"
   ]
  },
  {
   "cell_type": "code",
   "execution_count": null,
   "id": "34ef8624-c852-419d-9e98-e9ec70ec6bc0",
   "metadata": {},
   "outputs": [],
   "source": [
    "# Respects right-hand rule\n",
    "poly = h3.H3Poly(outer, hole1, hole2)\n",
    "plot_shape_and_cells(poly, res=10)"
   ]
  },
  {
   "cell_type": "code",
   "execution_count": null,
   "id": "e52ae550-e34d-406b-9c82-b283fd34a170",
   "metadata": {},
   "outputs": [],
   "source": [
    "# Does not respect right-hand-rule; second hole is reversed\n",
    "# Conversion to cells still works, tho!\n",
    "poly = h3.H3Poly(outer, hole1[::-1], hole2)\n",
    "plot_shape_and_cells(poly, res=10)"
   ]
  },
  {
   "cell_type": "code",
   "execution_count": null,
   "id": "f1940071-eb32-44bc-b07c-2a2eef14b21e",
   "metadata": {},
   "outputs": [],
   "source": [
    "# Does not respect right-hand-rule; outer loop and second hole are both reversed\n",
    "# Conversion to cells still works, tho!\n",
    "poly = h3.H3Poly(outer[::-1], hole1[::-1], hole2)\n",
    "plot_shape_and_cells(poly, res=10)"
   ]
  },
  {
   "cell_type": "markdown",
   "id": "b0b13d4a-a376-4a8f-b314-898d9cf94c59",
   "metadata": {},
   "source": [
    "## H3MultiPoly\n",
    "\n",
    "An `H3MultiPoly` can be created from `H3Poly` objects. The string representation of the `H3MultiPoly`\n",
    "gives the number of vertices in the outer loop of each `H3Poly`, along with the number of vertices\n",
    "in each hole (if there are any)."
   ]
  },
  {
   "cell_type": "code",
   "execution_count": null,
   "id": "16b0b4b2-2cfb-461d-bd69-511c87e208a3",
   "metadata": {},
   "outputs": [],
   "source": [
    "poly1 = h3.H3Poly([(37.804, -122.412), (37.778, -122.507), (37.733, -122.501)])\n",
    "poly2 = h3.H3Poly(\n",
    "    [(37.803, -122.408), (37.736, -122.491), (37.738, -122.380), (37.787, -122.39)],\n",
    "    [(37.760, -122.441), (37.772, -122.427), (37.773, -122.404), (37.758, -122.401), (37.745, -122.428)]\n",
    ")\n",
    "mpoly = h3.H3MultiPoly(poly1, poly2)\n",
    "\n",
    "print(poly1)\n",
    "print(poly2)\n",
    "print(mpoly)"
   ]
  },
  {
   "cell_type": "code",
   "execution_count": null,
   "id": "f2faf991-9d3b-4e0a-8fd4-8c31e19fd07b",
   "metadata": {},
   "outputs": [],
   "source": [
    "plot_shape(mpoly)"
   ]
  },
  {
   "cell_type": "markdown",
   "id": "850912ae-85f1-470c-aeea-1140f549fc95",
   "metadata": {},
   "source": [
    "`h3.h3shape_to_cells()` works on both `H3MultiPoly` and `H3Poly` objects."
   ]
  },
  {
   "cell_type": "code",
   "execution_count": null,
   "id": "944564c0-8198-49ae-81de-cf980dc4b348",
   "metadata": {},
   "outputs": [],
   "source": [
    "cells = h3.h3shape_to_cells(mpoly, res=9)\n",
    "plot_cells(cells)"
   ]
  },
  {
   "cell_type": "code",
   "execution_count": null,
   "id": "217d6e5a-bb8b-4923-b311-0f84ebf48872",
   "metadata": {},
   "outputs": [],
   "source": [
    "len(mpoly)"
   ]
  },
  {
   "cell_type": "code",
   "execution_count": null,
   "id": "03f6cd31-b18f-4fe7-b259-78741f12c95d",
   "metadata": {},
   "outputs": [],
   "source": [
    "for p in mpoly:\n",
    "    print(p)"
   ]
  },
  {
   "cell_type": "code",
   "execution_count": null,
   "id": "4eca4cec-2881-4ed1-a65c-3aea38ac9c63",
   "metadata": {},
   "outputs": [],
   "source": [
    "list(mpoly)"
   ]
  },
  {
   "cell_type": "markdown",
   "id": "0ae6d480-4807-4ca1-ac20-4095a20ded31",
   "metadata": {},
   "source": [
    "# Summary\n",
    "\n",
    "geo <> shape <> cells\n",
    "```\n",
    "\n",
    "Most users can use\n",
    "\n",
    "- `geo_to_cells`\n",
    "- `cells_to_geo`\n",
    "\n",
    "\n",
    "For an alternative interface, consider the classes\n",
    "\n",
    "- `H3Shape`\n",
    "- `H3Poly`\n",
    "- `H3MultiPoly`\n",
    "\n",
    "\n",
    "We have a few functions for dealing with polygons in H3:\n",
    "\n",
    "- `h3shape_to_cells`\n",
    "- `cells_to_h3shape`\n",
    "\n",
    "do i need:\n",
    "\n",
    "- `geo_to_h3shape`\n",
    "- `h3shape_to_geo`\n",
    "\n",
    "Define `geo`:\n",
    "\n",
    "- anything that implements `__geo_interface__`\n",
    "- a dictionary like `__geo_interface__`"
   ]
  },
  {
   "cell_type": "markdown",
   "id": "5838f6c8-aacb-4813-be7c-756c87945476",
   "metadata": {},
   "source": [
    "# Interfacing with GeoPandas and other libraries\n",
    "\n",
    "TODO"
   ]
  },
  {
   "cell_type": "code",
   "execution_count": null,
   "id": "cd012d79-a653-4d5d-bb30-408031301015",
   "metadata": {},
   "outputs": [],
   "source": []
  }
 ],
 "metadata": {
  "kernelspec": {
   "display_name": "Python 3 (ipykernel)",
   "language": "python",
   "name": "python3"
  },
  "language_info": {
   "codemirror_mode": {
    "name": "ipython",
    "version": 3
   },
   "file_extension": ".py",
   "mimetype": "text/x-python",
   "name": "python",
   "nbconvert_exporter": "python",
   "pygments_lexer": "ipython3",
   "version": "3.11.2"
  }
 },
 "nbformat": 4,
 "nbformat_minor": 5
}
