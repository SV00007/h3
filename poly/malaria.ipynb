{
 "cells": [
  {
   "cell_type": "code",
   "execution_count": null,
   "id": "9f34cdaa-e318-4b3f-b57c-67721e20f29c",
   "metadata": {},
   "outputs": [],
   "source": [
    "import geodatasets\n",
    "import geopandas as gpd"
   ]
  },
  {
   "cell_type": "code",
   "execution_count": null,
   "id": "7d6e8918-b336-4869-af17-615689724e82",
   "metadata": {},
   "outputs": [],
   "source": [
    "import h3"
   ]
  },
  {
   "cell_type": "code",
   "execution_count": null,
   "id": "84d60012-d086-4beb-9b8f-91a5871ea714",
   "metadata": {},
   "outputs": [],
   "source": [
    "h3.__version__"
   ]
  },
  {
   "cell_type": "code",
   "execution_count": null,
   "id": "15b3e0c9-42ca-4c83-9724-dde66a457404",
   "metadata": {},
   "outputs": [],
   "source": [
    "h3.versions()"
   ]
  },
  {
   "cell_type": "code",
   "execution_count": null,
   "id": "96d87cd9-fc58-4560-a258-6a34adf4a066",
   "metadata": {},
   "outputs": [],
   "source": [
    "colombia = gpd.read_file(geodatasets.get_path('geoda.malaria'))"
   ]
  },
  {
   "cell_type": "code",
   "execution_count": null,
   "id": "497350a3-fce8-420f-8a73-304c088dcd9d",
   "metadata": {},
   "outputs": [],
   "source": [
    "def show_gj_str(gj_str):\n",
    "    import json\n",
    "    from IPython.display import GeoJSON\n",
    "    \n",
    "    return GeoJSON(json.loads(gj_str))"
   ]
  },
  {
   "cell_type": "code",
   "execution_count": null,
   "id": "e7fed94f-6ab0-43b8-97eb-f7a0a7483c41",
   "metadata": {},
   "outputs": [],
   "source": [
    "colombia["
   ]
  },
  {
   "cell_type": "code",
   "execution_count": null,
   "id": "8d4e9b16-a5a6-485d-b798-ae335f934fb6",
   "metadata": {},
   "outputs": [],
   "source": [
    "cells = h3.geo_to_cells(colombia['geometry'][1064], 9)"
   ]
  },
  {
   "cell_type": "code",
   "execution_count": null,
   "id": "5bbc610c-a5bb-476a-a7f6-d169d734300f",
   "metadata": {},
   "outputs": [],
   "source": [
    "# h3.cells_to_geo(cells)"
   ]
  },
  {
   "cell_type": "code",
   "execution_count": null,
   "id": "73110b3d-02cc-445e-aaa2-967f8dff1a23",
   "metadata": {},
   "outputs": [],
   "source": [
    "from IPython.display import GeoJSON"
   ]
  },
  {
   "cell_type": "code",
   "execution_count": null,
   "id": "fcd17c29-4de2-4ac5-863f-ad562ab458db",
   "metadata": {},
   "outputs": [],
   "source": [
    "GeoJSON(colombia['geometry'][1064].__geo_interface__)"
   ]
  },
  {
   "cell_type": "code",
   "execution_count": null,
   "id": "04c1383a-ede3-41f3-86d5-81e3a6bbf4d1",
   "metadata": {},
   "outputs": [],
   "source": [
    "GeoJSON(h3.cells_to_geo(cells))"
   ]
  },
  {
   "cell_type": "code",
   "execution_count": null,
   "id": "03b967ae-67b4-413c-a74f-b2919f9b33b3",
   "metadata": {},
   "outputs": [],
   "source": [
    "show_gj_str"
   ]
  },
  {
   "cell_type": "code",
   "execution_count": null,
   "id": "e2ed18aa-4f9b-4472-bda4-99921498e329",
   "metadata": {},
   "outputs": [],
   "source": [
    "h3.geo_to_cells"
   ]
  },
  {
   "cell_type": "code",
   "execution_count": null,
   "id": "f0922be3-d219-4977-8ece-f7312785d8a5",
   "metadata": {},
   "outputs": [],
   "source": [
    "import geopandas as gpd\n",
    "states = gpd.read_file('states.geojson')"
   ]
  },
  {
   "cell_type": "code",
   "execution_count": null,
   "id": "25545603-134d-4117-99ec-88d70e2a97b5",
   "metadata": {},
   "outputs": [],
   "source": []
  }
 ],
 "metadata": {
  "kernelspec": {
   "display_name": "Python 3 (ipykernel)",
   "language": "python",
   "name": "python3"
  },
  "language_info": {
   "codemirror_mode": {
    "name": "ipython",
    "version": 3
   },
   "file_extension": ".py",
   "mimetype": "text/x-python",
   "name": "python",
   "nbconvert_exporter": "python",
   "pygments_lexer": "ipython3",
   "version": "3.11.2"
  }
 },
 "nbformat": 4,
 "nbformat_minor": 5
}
