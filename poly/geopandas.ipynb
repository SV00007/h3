{
 "cells": [
  {
   "cell_type": "code",
   "execution_count": null,
   "id": "091aafd9-6f1e-4f4d-8be5-d0e06c99e926",
   "metadata": {},
   "outputs": [],
   "source": [
    "import h3\n",
    "import geopandas as gpd\n",
    "\n",
    "def show_geo(geo):\n",
    "    \"\"\" Show something that implements __geo_interface__\n",
    "    \"\"\"\n",
    "    import json\n",
    "    from IPython.display import GeoJSON\n",
    "    # json.loads(gj_str)\n",
    "    geo = geo.__geo_interface__\n",
    "    \n",
    "    return GeoJSON(geo)\n",
    "\n",
    "poly = h3.H3Poly([\n",
    "    [37.813, -122.408],\n",
    "    [37.707, -122.512],\n",
    "    [37.815, -122.479],\n",
    "])"
   ]
  },
  {
   "cell_type": "code",
   "execution_count": null,
   "id": "e08eb31b-ab13-4dd4-9c29-13f75f656fc4",
   "metadata": {},
   "outputs": [],
   "source": [
    "show_geo(poly)"
   ]
  },
  {
   "cell_type": "code",
   "execution_count": null,
   "id": "f90e14e3-e171-4fa1-b384-c387a0d8fd3a",
   "metadata": {},
   "outputs": [],
   "source": [
    "data = [\n",
    "    ['col1', 'geometry', 'value'],\n",
    "    ('h3poly', poly, 1),\n",
    "    # ('cells', h3.cells_to_geo(h3.h3shape_to_cells(poly, 8))) # doesn't work?\n",
    "    ('cells', h3.cells_to_h3shape(h3.h3shape_to_cells(poly, 8)), 2)\n",
    "]\n",
    "\n",
    "dfg = gpd.GeoDataFrame(\n",
    "    data[1:],\n",
    "    columns=data[0],\n",
    "    # crs='epsg:4326',\n",
    ")"
   ]
  },
  {
   "cell_type": "code",
   "execution_count": null,
   "id": "ecd893a4-9f1f-4889-a603-60132db7ae0c",
   "metadata": {},
   "outputs": [],
   "source": [
    "data[0]"
   ]
  },
  {
   "cell_type": "code",
   "execution_count": null,
   "id": "beeef4f7-5f88-49db-803d-c4fb225b0e1e",
   "metadata": {},
   "outputs": [],
   "source": [
    "dfg"
   ]
  },
  {
   "cell_type": "code",
   "execution_count": null,
   "id": "ac39be00-d5a9-477f-97c4-5c39159a7e65",
   "metadata": {},
   "outputs": [],
   "source": [
    "dfg.plot(column='value')"
   ]
  },
  {
   "cell_type": "code",
   "execution_count": null,
   "id": "9d5ff13c-6146-4362-bdf4-e600913ac1ef",
   "metadata": {},
   "outputs": [],
   "source": []
  },
  {
   "cell_type": "code",
   "execution_count": null,
   "id": "141e3757-55a5-43cd-9a6f-84b4c4caa0e8",
   "metadata": {},
   "outputs": [],
   "source": [
    "gdf['geometry'][0].__geo_interface__"
   ]
  },
  {
   "cell_type": "code",
   "execution_count": null,
   "id": "88287653-69fc-4490-ad60-e225f2ff115f",
   "metadata": {},
   "outputs": [],
   "source": [
    "gdf['geometry'][1].__geo_interface__"
   ]
  },
  {
   "cell_type": "code",
   "execution_count": null,
   "id": "6b7811dc-5ff4-4d4b-8f97-4b82c8110644",
   "metadata": {},
   "outputs": [],
   "source": [
    "cells = h3.geo_to_cells(gdf['geometry'][0], 7)"
   ]
  },
  {
   "cell_type": "code",
   "execution_count": null,
   "id": "b2734f38-9108-49e5-af26-de23def78332",
   "metadata": {},
   "outputs": [],
   "source": [
    "h3.cells_to_geo(cells)"
   ]
  },
  {
   "cell_type": "code",
   "execution_count": null,
   "id": "1530ee36-16b1-460c-9806-8b98cc79ff4e",
   "metadata": {},
   "outputs": [],
   "source": [
    "h3shape_open = h3.geo_to_h3shape(mock_open)\n",
    "h3shape_closed = h3.geo_to_h3shape(mock_closed)"
   ]
  },
  {
   "cell_type": "code",
   "execution_count": null,
   "id": "5a1cc412-cb58-4dc9-a312-5b010004e496",
   "metadata": {},
   "outputs": [],
   "source": [
    "h3shape_open.__geo_interface__"
   ]
  },
  {
   "cell_type": "code",
   "execution_count": null,
   "id": "5b9f9dac-0b3d-431b-b55c-89af7385bb53",
   "metadata": {},
   "outputs": [],
   "source": [
    "h3shape_open"
   ]
  },
  {
   "cell_type": "code",
   "execution_count": null,
   "id": "52cfcbdd-f2f6-4133-82ca-8ab93ec26464",
   "metadata": {},
   "outputs": [],
   "source": [
    "h3shape_closed"
   ]
  },
  {
   "cell_type": "code",
   "execution_count": null,
   "id": "7c5025e5-5c04-43c6-8f27-54ae2b09dca0",
   "metadata": {},
   "outputs": [],
   "source": [
    "h3shape_closed.__geo_interface__"
   ]
  },
  {
   "cell_type": "code",
   "execution_count": null,
   "id": "c663eac2-442c-431b-8084-b800b9175fa9",
   "metadata": {},
   "outputs": [],
   "source": [
    "h3shape_closed"
   ]
  },
  {
   "cell_type": "code",
   "execution_count": null,
   "id": "38a80b37-b3e7-4b7c-ab72-bc02c7ae63c5",
   "metadata": {},
   "outputs": [],
   "source": [
    "h3.H3MultiPoly(h3shape_open).__geo_interface__"
   ]
  },
  {
   "cell_type": "code",
   "execution_count": null,
   "id": "4a98fb54-fe08-4581-aecf-49c752acaf04",
   "metadata": {},
   "outputs": [],
   "source": [
    "h3.geo_to_h3shape(h3shape_open.__geo_interface__)"
   ]
  },
  {
   "cell_type": "code",
   "execution_count": null,
   "id": "939da909-1b51-4e59-bdc7-91178e7ef4e5",
   "metadata": {},
   "outputs": [],
   "source": [
    "h3shape_closed"
   ]
  },
  {
   "cell_type": "code",
   "execution_count": null,
   "id": "d6e3ea49-9099-47df-aad8-dcbaa3448c47",
   "metadata": {},
   "outputs": [],
   "source": [
    "h3shape_closed.__geo_interface__"
   ]
  },
  {
   "cell_type": "code",
   "execution_count": null,
   "id": "fba495ee-e1af-4d7c-8967-fdec5dd5cc84",
   "metadata": {},
   "outputs": [],
   "source": [
    "h3shape_open"
   ]
  },
  {
   "cell_type": "code",
   "execution_count": null,
   "id": "6b80a257-381b-42f5-821c-fae3c81d84fd",
   "metadata": {},
   "outputs": [],
   "source": []
  }
 ],
 "metadata": {
  "kernelspec": {
   "display_name": "Python 3 (ipykernel)",
   "language": "python",
   "name": "python3"
  },
  "language_info": {
   "codemirror_mode": {
    "name": "ipython",
    "version": 3
   },
   "file_extension": ".py",
   "mimetype": "text/x-python",
   "name": "python",
   "nbconvert_exporter": "python",
   "pygments_lexer": "ipython3",
   "version": "3.11.2"
  }
 },
 "nbformat": 4,
 "nbformat_minor": 5
}
