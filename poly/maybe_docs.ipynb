{
 "cells": [
  {
   "cell_type": "markdown",
   "id": "f38834cc-0a97-4e61-bd96-86a995607f6f",
   "metadata": {},
   "source": [
    "- i don't think we imported the stuff into the other interfaces!"
   ]
  },
  {
   "cell_type": "markdown",
   "id": "6d6cb01d-ab34-4657-9e69-c6f9749a309a",
   "metadata": {},
   "source": [
    "Summary:\n",
    "\n",
    "```\n",
    "geo <> shape <> cells\n",
    "```\n",
    "\n",
    "Most users can use\n",
    "\n",
    "- `geo_to_cells`\n",
    "- `cells_to_geo`\n",
    "\n",
    "\n",
    "For an alternative interface, consider the classes\n",
    "\n",
    "- `H3Shape`\n",
    "- `H3Poly`\n",
    "- `H3MultiPoly`\n",
    "\n",
    "\n",
    "We have a few functions for dealing with polygons in H3:\n",
    "\n",
    "- `h3shape_to_cells`\n",
    "- `cells_to_h3shape`\n",
    "\n",
    "do i need:\n",
    "\n",
    "- `geo_to_h3shape`\n",
    "- `h3shape_to_geo`\n",
    "\n",
    "Define `geo`:\n",
    "\n",
    "- anything that implements `__geo_interface__`\n",
    "- a dictionary like `__geo_interface__`\n",
    "- strings NO!"
   ]
  },
  {
   "cell_type": "code",
   "execution_count": null,
   "id": "5b1f822e-1cfd-46b8-b3ad-1cc5b477150d",
   "metadata": {},
   "outputs": [],
   "source": [
    "import h3"
   ]
  },
  {
   "cell_type": "code",
   "execution_count": null,
   "id": "768bd740-f3fc-4157-a031-58e6d1fba9af",
   "metadata": {},
   "outputs": [],
   "source": [
    "h3.geo_to_cells?"
   ]
  },
  {
   "cell_type": "code",
   "execution_count": null,
   "id": "32488485-5c18-41c7-9523-fa8b1169dd10",
   "metadata": {},
   "outputs": [],
   "source": [
    "h3.cells_to_geo?"
   ]
  },
  {
   "cell_type": "code",
   "execution_count": null,
   "id": "8809d6f3-7e63-4c8c-acf5-56cc5f475f3d",
   "metadata": {},
   "outputs": [],
   "source": [
    "h3.cells_to_h3shape?"
   ]
  },
  {
   "cell_type": "code",
   "execution_count": null,
   "id": "55f04179-e3f8-4963-aa3f-fa948be9b5d8",
   "metadata": {},
   "outputs": [],
   "source": [
    "h3.h3shape_to_cells?"
   ]
  },
  {
   "cell_type": "code",
   "execution_count": null,
   "id": "d7907aca-9868-4d22-b58a-3245bd493538",
   "metadata": {},
   "outputs": [],
   "source": [
    "h3.geo_to_h3shape?"
   ]
  },
  {
   "cell_type": "code",
   "execution_count": null,
   "id": "6c128bbb-df95-44e5-b6ea-15f051fc2778",
   "metadata": {},
   "outputs": [],
   "source": [
    "h3.h3shape_to_geo?"
   ]
  },
  {
   "cell_type": "code",
   "execution_count": null,
   "id": "bd16cc55-00ed-4ff3-bce5-3136003aaebe",
   "metadata": {},
   "outputs": [],
   "source": []
  }
 ],
 "metadata": {
  "kernelspec": {
   "display_name": "Python 3 (ipykernel)",
   "language": "python",
   "name": "python3"
  },
  "language_info": {
   "codemirror_mode": {
    "name": "ipython",
    "version": 3
   },
   "file_extension": ".py",
   "mimetype": "text/x-python",
   "name": "python",
   "nbconvert_exporter": "python",
   "pygments_lexer": "ipython3",
   "version": "3.11.2"
  }
 },
 "nbformat": 4,
 "nbformat_minor": 5
}
