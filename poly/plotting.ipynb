{
 "cells": [
  {
   "cell_type": "markdown",
   "id": "aa3a6a1e-b947-4e92-a5e4-c3dac6621885",
   "metadata": {},
   "source": [
    "# notes\n",
    "\n",
    "## projections\n",
    "\n",
    "- 4326 # wgs84 (for H3 compatibility)\n",
    "    - H3 **does not use** wgs84/epsg4326, but it **does use** the \"authalic radius\" from that standard\n",
    "    - lat/lng\n",
    "- 3857 # web mercator (for plotting), but in meters!\n",
    "- 2263 # new york (just what's used in the example below)\n",
    "\n",
    "## geoviews\n",
    "\n",
    "- tile options: https://github.com/holoviz/geoviews/blob/main/geoviews/tile_sources.py\n",
    "    - also this, but i don't see a good way to programatically get all the options: https://geoviews.org/gallery/matplotlib/tile_sources.html \n",
    "- active tools: https://stackoverflow.com/questions/57767169/set-box-zoom-or-pan-or-wheel-zoom-as-default-in-using-holoviews-or-hvplot\n",
    "- bokeh pallets: https://docs.bokeh.org/en/latest/docs/reference/palettes.html\n",
    "- Bokeh \"tap\" tool seems to do something on this website, but i can't get the same functionality (isolating a single geometry) locally: https://geoviews.org/gallery/bokeh/new_york_boroughs.html\n",
    "\n",
    "## folium\n",
    "\n",
    "- seems to be most popular, but they make you manually determine the center and zoom level!\n",
    "    - too much work. geoviews does it automatically\n",
    "    - https://geopandas.org/en/stable/gallery/polygon_plotting_with_folium.html"
   ]
  },
  {
   "cell_type": "code",
   "execution_count": null,
   "id": "494c8b0a-dadb-41a0-a638-b3ebed8e42c4",
   "metadata": {},
   "outputs": [],
   "source": []
  },
  {
   "cell_type": "code",
   "execution_count": null,
   "id": "595a3eea-392d-44e1-a657-1a2771b08947",
   "metadata": {},
   "outputs": [],
   "source": [
    "import h3\n",
    "import geopandas\n",
    "import geodatasets\n",
    "import contextily as cx\n",
    "import matplotlib.pyplot as plt\n",
    "import pandas as pd"
   ]
  },
  {
   "cell_type": "code",
   "execution_count": null,
   "id": "ebfcdc3c-b05f-4a8d-afec-b5a53c9b9a7f",
   "metadata": {},
   "outputs": [],
   "source": [
    "    >>> h3.H3Poly(\n",
    "    ...     [(37.68, -122.54), (37.68, -122.34), (37.82, -122.34), (37.82, -122.54)],\n",
    "    ...     [(37.76, -122.51), (37.76, -122.44), (37.81, -122.51)],\n",
    "    ...     [(37.71, -122.43), (37.71, -122.37), (37.73, -122.37), (37.75, -122.41),\n",
    "    ...      (37.73, -122.43)],\n",
    "    ... )"
   ]
  },
  {
   "cell_type": "code",
   "execution_count": null,
   "id": "0163ca72-1448-496e-b75d-41923f19cf54",
   "metadata": {},
   "outputs": [],
   "source": []
  },
  {
   "cell_type": "code",
   "execution_count": null,
   "id": "9e971ca2-24a4-43ba-8a90-83f6091b462b",
   "metadata": {},
   "outputs": [],
   "source": []
  },
  {
   "cell_type": "code",
   "execution_count": null,
   "id": "92bb0020-9c94-474f-90c1-96faa8744759",
   "metadata": {},
   "outputs": [],
   "source": [
    "df = geopandas.read_file(geodatasets.get_path('nybb'))\n",
    "df.crs"
   ]
  },
  {
   "cell_type": "code",
   "execution_count": null,
   "id": "9df12bd5-b36e-413c-a18a-67ae857f9daf",
   "metadata": {},
   "outputs": [],
   "source": [
    "df"
   ]
  },
  {
   "cell_type": "code",
   "execution_count": null,
   "id": "1b12a4bc-196c-4acb-931e-8cbe76a8d7c1",
   "metadata": {},
   "outputs": [],
   "source": [
    "def foo(df, epsg):\n",
    "    df = df.to_crs(epsg=epsg)\n",
    "    \n",
    "    ax = df.plot(figsize=(10, 10), alpha=0.5, edgecolor='k', column='BoroName', categorical=True, legend=True, legend_kwds={'loc': 'upper left'})\n",
    "    \n",
    "    ax.get_xaxis().set_visible(False)\n",
    "    ax.get_yaxis().set_visible(False)\n",
    "    \n",
    "    cx.add_basemap(ax, crs=df.crs, source=cx.providers.CartoDB.Positron)"
   ]
  },
  {
   "cell_type": "code",
   "execution_count": null,
   "id": "d76ec57d-83f0-4c69-8c67-6536ca881f65",
   "metadata": {},
   "outputs": [],
   "source": [
    "foo(df, 2263)"
   ]
  },
  {
   "cell_type": "code",
   "execution_count": null,
   "id": "cfd6380d-8b2c-4176-8c50-48bea9bd04c3",
   "metadata": {},
   "outputs": [],
   "source": [
    "foo(df, 4326)"
   ]
  },
  {
   "cell_type": "code",
   "execution_count": null,
   "id": "ee42f565-4b74-469a-9adb-0a4b448ce685",
   "metadata": {},
   "outputs": [],
   "source": []
  },
  {
   "cell_type": "code",
   "execution_count": null,
   "id": "2ad7aa3c-e249-4ef7-b760-d25794e405df",
   "metadata": {},
   "outputs": [],
   "source": [
    "import geodatasets as gds\n",
    "import geopandas as gpd\n",
    "import geoviews as gv\n",
    "import cartopy.crs as ccrs\n",
    "\n",
    "gv.extension('bokeh');"
   ]
  },
  {
   "cell_type": "code",
   "execution_count": null,
   "id": "0c9964ae-c52f-464c-ab7c-965794fe918a",
   "metadata": {},
   "outputs": [],
   "source": [
    "def bar(df, epsg):\n",
    "    crs = ccrs.epsg(epsg)\n",
    "    df = df.to_crs(crs)\n",
    "    \n",
    "    tiles = gv.tile_sources.CartoLight\n",
    "    polys = gv.Polygons(df, vdims=['BoroName'], crs=df.crs)\n",
    "\n",
    "    out = tiles * polys.opts(color='BoroName', cmap='Pastel1', tools=['hover'], width=1200, height=800, alpha=0.5, active_tools=['wheel_zoom'], xaxis=None, yaxis=None)\n",
    "\n",
    "    return out"
   ]
  },
  {
   "cell_type": "code",
   "execution_count": null,
   "id": "8a3d3d09-e57c-4985-a246-e2e27ff85157",
   "metadata": {},
   "outputs": [],
   "source": [
    "bar(df, 3857)"
   ]
  },
  {
   "cell_type": "markdown",
   "id": "c6a0ea52-0721-496e-bb1f-50faebd38493",
   "metadata": {},
   "source": [
    "# converting to cells"
   ]
  },
  {
   "cell_type": "code",
   "execution_count": null,
   "id": "c701a9b6-a26d-44b7-beb1-9981d9ea22d3",
   "metadata": {},
   "outputs": [],
   "source": [
    "df = geopandas.read_file(geodatasets.get_path('nybb'))\n",
    "df = df[['BoroName', 'geometry']]\n",
    "df = df.to_crs(epsg=4326)\n",
    "df"
   ]
  },
  {
   "cell_type": "code",
   "execution_count": null,
   "id": "b6d9a43f-8610-4fb8-954a-7a1f3494d375",
   "metadata": {},
   "outputs": [],
   "source": [
    "res = 9\n",
    "df.geometry.apply(lambda x: h3.geo_to_cells(x, res=res)).apply(h3.cells_to_h3shape)"
   ]
  },
  {
   "cell_type": "code",
   "execution_count": null,
   "id": "b922d34f-d958-4772-b8f6-92d10ac5bd00",
   "metadata": {},
   "outputs": [],
   "source": [
    "res = 9\n",
    "df.geometry.apply(lambda x: h3.geo_to_cells(x, res=res)).apply(h3.cells_to_h3shape)[1]"
   ]
  },
  {
   "cell_type": "code",
   "execution_count": null,
   "id": "08ed0279-752c-497e-ad98-ea15541c39cc",
   "metadata": {},
   "outputs": [],
   "source": []
  },
  {
   "cell_type": "code",
   "execution_count": null,
   "id": "33d954ff-b59c-4a8d-853c-77cc8d61a15e",
   "metadata": {},
   "outputs": [],
   "source": []
  },
  {
   "cell_type": "code",
   "execution_count": null,
   "id": "5eb3a666-c7c2-4b5c-8917-aba12a2f9e39",
   "metadata": {},
   "outputs": [],
   "source": [
    "res = 9\n",
    "\n",
    "df2 = df.copy()\n",
    "df2.geometry = df.geometry.apply(lambda x: h3.geo_to_cells(x, res=res)).apply(h3.compact_cells).apply(lambda x: h3.H3MultiPoly(*[h3.cells_to_h3shape({y})[0] for y in x]))\n",
    "df2.BoroName = df2.BoroName + ' H3'"
   ]
  },
  {
   "cell_type": "code",
   "execution_count": null,
   "id": "660cb353-1aaa-4d59-9c64-bc2e3d4d7cd4",
   "metadata": {},
   "outputs": [],
   "source": [
    "df2"
   ]
  },
  {
   "cell_type": "code",
   "execution_count": null,
   "id": "412b1d82-5932-4c3b-9608-c3397859ab9e",
   "metadata": {},
   "outputs": [],
   "source": [
    "df3 = pd.concat([df, df2])"
   ]
  },
  {
   "cell_type": "code",
   "execution_count": null,
   "id": "56d880e8-4f3e-4495-91df-26115b5ebd33",
   "metadata": {},
   "outputs": [],
   "source": [
    "bar(df2, 3857)"
   ]
  },
  {
   "cell_type": "code",
   "execution_count": null,
   "id": "65f2c481-2b80-4acd-932d-5c873e58cccd",
   "metadata": {},
   "outputs": [],
   "source": [
    "# TODO: this needs to show H3MultiPoly\n",
    "df['geometry_h3_9'] = df.geometry.apply(lambda x: h3.geo_to_cells(x, 9)).apply(lambda x: h3.cells_to_h3shape(x))\n",
    "df"
   ]
  },
  {
   "cell_type": "code",
   "execution_count": null,
   "id": "c2210cdc-e047-4588-80bc-c9ccf126b2b0",
   "metadata": {},
   "outputs": [],
   "source": [
    "df.geometry = df.geometry_h3_9"
   ]
  },
  {
   "cell_type": "code",
   "execution_count": null,
   "id": "b183885a-1970-4781-a9d3-4eb0b260e387",
   "metadata": {},
   "outputs": [],
   "source": [
    "df"
   ]
  },
  {
   "cell_type": "code",
   "execution_count": null,
   "id": "63dd6986-5c4e-4ae4-bdc3-09d17fd7b0df",
   "metadata": {},
   "outputs": [],
   "source": [
    "crs = ccrs.epsg(3857)\n",
    "df = df.to_crs(crs)\n",
    "\n",
    "tiles = gv.tile_sources.CartoLight\n",
    "polys = gv.Polygons(df, vdims=['BoroName'], crs=df.crs)\n",
    "\n",
    "out = tiles * polys.opts(color='BoroName', cmap='Pastel1', tools=['hover'], width=1200, height=800, alpha=0.5, active_tools=['wheel_zoom'], xaxis=None, yaxis=None)\n",
    "\n",
    "return out"
   ]
  },
  {
   "cell_type": "code",
   "execution_count": null,
   "id": "83d113f5-0951-42a2-9b20-e975b508020e",
   "metadata": {},
   "outputs": [],
   "source": [
    "bar(df, 3857)"
   ]
  },
  {
   "cell_type": "markdown",
   "id": "b093e9c3-efff-4887-9c60-8970066bc60d",
   "metadata": {},
   "source": [
    "old version:\n",
    "\n",
    "`H3MultiPoly(<H3Poly[368]>, <H3Poly[20]>, <H3Poly[6]>)`\n",
    "\n",
    "new version:\n",
    "\n",
    "`<H3MultiPoly([368], [20], [6])>`"
   ]
  },
  {
   "cell_type": "code",
   "execution_count": null,
   "id": "3af27cfa-4ae7-4d28-8dee-2e66e8a57f47",
   "metadata": {},
   "outputs": [],
   "source": [
    "import pandas as pd\n",
    "\n",
    "pd.DataFrame(out)"
   ]
  },
  {
   "cell_type": "code",
   "execution_count": null,
   "id": "bd703020-e626-46c1-8d40-b32aad3a0749",
   "metadata": {},
   "outputs": [],
   "source": [
    "for a in out:\n",
    "    print(a)"
   ]
  },
  {
   "cell_type": "code",
   "execution_count": null,
   "id": "883c8494-b468-4c1a-8997-8a58a1a8bfeb",
   "metadata": {},
   "outputs": [],
   "source": [
    "\"<H3Poly: [368]>\""
   ]
  },
  {
   "cell_type": "code",
   "execution_count": null,
   "id": "d960ded4-7902-42e9-8c89-b0f6e202205f",
   "metadata": {},
   "outputs": [],
   "source": [
    "out = df84.geometry.apply(lambda x: h3.geo_to_cells(x, 9)).apply(lambda x: h3.cells_to_h3shape(x))\n",
    "out\n",
    "\n",
    "for a in out:\n",
    "    out = [p.loopcode for p in a]\n",
    "    out = ', '.join(out)\n",
    "    out = f'<H3MultiPoly: {out}>'\n",
    "    print(out)"
   ]
  },
  {
   "cell_type": "code",
   "execution_count": null,
   "id": "adacc9ea-3370-4060-82ff-8a10321e7dc1",
   "metadata": {},
   "outputs": [],
   "source": [
    "out = df84.geometry.apply(lambda x: h3.geo_to_cells(x, 9)).apply(lambda x: h3.cells_to_h3shape(x))\n",
    "out\n",
    "\n",
    "for a in out:\n",
    "    out = [p.loopcode for p in a]\n",
    "    out = ', '.join(out)\n",
    "    out = f'<H3MultiPoly: {out}>'\n",
    "    print(out)"
   ]
  },
  {
   "cell_type": "code",
   "execution_count": null,
   "id": "b0e9cf22-63b2-4300-b2ef-30cd4f1fa5a7",
   "metadata": {},
   "outputs": [],
   "source": [
    "def shortcode(poly):\n",
    "    outer = len(poly.outer)\n",
    "    holes = tuple(map(len, poly.holes))\n",
    "\n",
    "    outer = str(outer)\n",
    "\n",
    "    if holes:\n",
    "        out = outer + '/' + str(holes)\n",
    "    else:\n",
    "        out = outer\n",
    "\n",
    "    return out"
   ]
  },
  {
   "cell_type": "code",
   "execution_count": null,
   "id": "fcb6278a-d727-4471-86cd-65dfd1722834",
   "metadata": {},
   "outputs": [],
   "source": []
  },
  {
   "cell_type": "code",
   "execution_count": null,
   "id": "aac772f7-255f-4a61-954f-ac04240f163d",
   "metadata": {},
   "outputs": [],
   "source": [
    "def my_repr(h3poly):\n",
    "    polys = [\n",
    "        str(len(p.outer)) + '/'+ str(tuple(map(len, p.holes)))\n",
    "        for p in h3poly\n",
    "    ]\n",
    "    return 'H3MultiPoly:' + str(polys)\n",
    "\n",
    "for a in out:\n",
    "    print(my_repr(a))"
   ]
  },
  {
   "cell_type": "code",
   "execution_count": null,
   "id": "68874a96-9b06-44e8-b376-edd062303b3e",
   "metadata": {},
   "outputs": [],
   "source": [
    "def my_repr(h3poly):\n",
    "    polys = [\n",
    "        shortcode(p)\n",
    "        for p in h3poly\n",
    "    ]\n",
    "    return 'H3MultiPoly:' + str(polys)\n",
    "\n",
    "for a in out:\n",
    "    print(my_repr(a))"
   ]
  },
  {
   "cell_type": "code",
   "execution_count": null,
   "id": "5c47a0fc-edfc-4dcd-ad14-c96a85883fd3",
   "metadata": {},
   "outputs": [],
   "source": [
    "def my_repr(h3poly):\n",
    "    polys = [\n",
    "        shortcode(p)\n",
    "        for p in h3poly\n",
    "    ]\n",
    "    return 'H3MultiPoly: ' + ', '.join(polys)\n",
    "\n",
    "for a in out:\n",
    "    print(my_repr(a))"
   ]
  },
  {
   "cell_type": "code",
   "execution_count": null,
   "id": "ac6b875c-f5eb-467f-a38f-86b1e7be3281",
   "metadata": {},
   "outputs": [],
   "source": [
    "def my_repr(h3poly):\n",
    "    polys = [\n",
    "        str(len(p.outer)) + '/'+ str(tuple(map(len, p.holes)))\n",
    "        for p in h3poly\n",
    "    ]\n",
    "    return 'H3MultiPoly: ' + ', '.join(polys)\n",
    "\n",
    "for a in out:\n",
    "    print(my_repr(a))"
   ]
  },
  {
   "cell_type": "code",
   "execution_count": null,
   "id": "e0cbdc6a-f102-4705-b5a9-b59c75c100b0",
   "metadata": {},
   "outputs": [],
   "source": [
    "def my_repr(h3poly):\n",
    "    polys = [\n",
    "        str(len(p.outer)) + '-'+ str(tuple(map(len, p.holes)))\n",
    "        for p in h3poly\n",
    "    ]\n",
    "    return 'H3MultiPoly: ' + ', '.join(polys)\n",
    "\n",
    "for a in out:\n",
    "    print(my_repr(a))"
   ]
  },
  {
   "cell_type": "code",
   "execution_count": null,
   "id": "635c0940-1d05-47e5-8cf0-a597fce4bfaa",
   "metadata": {},
   "outputs": [],
   "source": [
    "def my_repr(h3poly):\n",
    "    polys = [\n",
    "        '['+shortcode(p)+']'\n",
    "        for p in h3poly\n",
    "    ]\n",
    "    return 'H3MultiPoly: ' + ', '.join(polys)\n",
    "\n",
    "for a in out:\n",
    "    print(my_repr(a))"
   ]
  },
  {
   "cell_type": "code",
   "execution_count": null,
   "id": "e03f4445-f753-4ae6-92ee-797c6be84147",
   "metadata": {},
   "outputs": [],
   "source": [
    "def my_repr(h3poly):\n",
    "    polys = [\n",
    "        shortcode(p)\n",
    "        for p in h3poly\n",
    "    ]\n",
    "    return 'H3MultiPoly: ' + ', '.join(polys)\n",
    "\n",
    "for a in out:\n",
    "    print(my_repr(a))"
   ]
  },
  {
   "cell_type": "code",
   "execution_count": null,
   "id": "5f5b9d67-b953-4c47-a7ed-0ac2b515d19a",
   "metadata": {},
   "outputs": [],
   "source": [
    "# todo: make this the polygon shortcode representation! people will learn fast. make it well-documented. it'll be fine\n",
    "# example question\n",
    "\n",
    "\"\"\"\n",
    "Q: what do codes of the form `[n/(x,y,z)]` mean?\n",
    "A: a polygon with an outer ring of n unique vertices, and 3 holes with x,y,and z unique vertices, respectively.\n",
    "\"\"\"\n",
    "\n"
   ]
  },
  {
   "cell_type": "code",
   "execution_count": null,
   "id": "a2c148e8-52d8-473e-b164-20a1f207b6ea",
   "metadata": {},
   "outputs": [],
   "source": []
  }
 ],
 "metadata": {
  "kernelspec": {
   "display_name": "Python 3 (ipykernel)",
   "language": "python",
   "name": "python3"
  },
  "language_info": {
   "codemirror_mode": {
    "name": "ipython",
    "version": 3
   },
   "file_extension": ".py",
   "mimetype": "text/x-python",
   "name": "python",
   "nbconvert_exporter": "python",
   "pygments_lexer": "ipython3",
   "version": "3.11.1"
  }
 },
 "nbformat": 4,
 "nbformat_minor": 5
}
