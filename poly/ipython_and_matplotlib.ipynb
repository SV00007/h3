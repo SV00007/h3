{
 "cells": [
  {
   "cell_type": "markdown",
   "id": "a30f46d7-1f5f-4b16-a43f-79a945f45679",
   "metadata": {},
   "source": [
    "# IPython.display and matplotlib plotting"
   ]
  },
  {
   "cell_type": "code",
   "execution_count": null,
   "id": "091aafd9-6f1e-4f4d-8be5-d0e06c99e926",
   "metadata": {},
   "outputs": [],
   "source": [
    "import h3\n",
    "import geopandas as gpd\n",
    "\n",
    "def show_geo(geo):\n",
    "    \"\"\" Show something that implements __geo_interface__\n",
    "    \"\"\"\n",
    "    import json\n",
    "    from IPython.display import GeoJSON\n",
    "    # json.loads(gj_str)\n",
    "    geo = geo.__geo_interface__\n",
    "    \n",
    "    return GeoJSON(geo)\n",
    "\n",
    "poly = h3.H3Poly([\n",
    "    [37.813, -122.408],\n",
    "    [37.707, -122.512],\n",
    "    [37.815, -122.479],\n",
    "])"
   ]
  },
  {
   "cell_type": "code",
   "execution_count": null,
   "id": "e08eb31b-ab13-4dd4-9c29-13f75f656fc4",
   "metadata": {},
   "outputs": [],
   "source": [
    "show_geo(poly)"
   ]
  },
  {
   "cell_type": "code",
   "execution_count": null,
   "id": "f90e14e3-e171-4fa1-b384-c387a0d8fd3a",
   "metadata": {},
   "outputs": [],
   "source": [
    "data = [\n",
    "    ['col1', 'geometry', 'value'],\n",
    "    ('h3poly', poly, 1),\n",
    "    ('cells', h3.cells_to_h3shape(h3.h3shape_to_cells(poly, 8)), 2)\n",
    "]\n",
    "\n",
    "dfg = gpd.GeoDataFrame(\n",
    "    data[1:],\n",
    "    columns=data[0],\n",
    "    # crs='epsg:4326',\n",
    ")"
   ]
  },
  {
   "cell_type": "code",
   "execution_count": null,
   "id": "beeef4f7-5f88-49db-803d-c4fb225b0e1e",
   "metadata": {},
   "outputs": [],
   "source": [
    "dfg"
   ]
  },
  {
   "cell_type": "code",
   "execution_count": null,
   "id": "ac39be00-d5a9-477f-97c4-5c39159a7e65",
   "metadata": {},
   "outputs": [],
   "source": [
    "dfg.plot(column='value')"
   ]
  },
  {
   "cell_type": "code",
   "execution_count": null,
   "id": "141e3757-55a5-43cd-9a6f-84b4c4caa0e8",
   "metadata": {},
   "outputs": [],
   "source": [
    "dfg['geometry'][0].__geo_interface__"
   ]
  },
  {
   "cell_type": "code",
   "execution_count": null,
   "id": "88287653-69fc-4490-ad60-e225f2ff115f",
   "metadata": {},
   "outputs": [],
   "source": [
    "str(dfg['geometry'][1].__geo_interface__)[:100]"
   ]
  },
  {
   "cell_type": "code",
   "execution_count": null,
   "id": "6b80a257-381b-42f5-821c-fae3c81d84fd",
   "metadata": {},
   "outputs": [],
   "source": []
  }
 ],
 "metadata": {
  "kernelspec": {
   "display_name": "Python 3 (ipykernel)",
   "language": "python",
   "name": "python3"
  },
  "language_info": {
   "codemirror_mode": {
    "name": "ipython",
    "version": 3
   },
   "file_extension": ".py",
   "mimetype": "text/x-python",
   "name": "python",
   "nbconvert_exporter": "python",
   "pygments_lexer": "ipython3",
   "version": "3.11.2"
  }
 },
 "nbformat": 4,
 "nbformat_minor": 5
}
