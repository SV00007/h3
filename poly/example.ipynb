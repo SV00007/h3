{
 "cells": [
  {
   "cell_type": "code",
   "execution_count": null,
   "id": "endangered-correction",
   "metadata": {},
   "outputs": [],
   "source": [
    "import h3\n",
    "\n",
    "def show_geo(geo):\n",
    "    \"\"\" Show something that implements __geo_interface__\n",
    "    \"\"\"\n",
    "    import json\n",
    "    from IPython.display import GeoJSON\n",
    "    # json.loads(gj_str)\n",
    "    geo = geo.__geo_interface__\n",
    "    \n",
    "    return GeoJSON(geo)"
   ]
  },
  {
   "cell_type": "code",
   "execution_count": null,
   "id": "differential-grammar",
   "metadata": {},
   "outputs": [],
   "source": [
    "lat, lng = 37.7749, -122.4194\n",
    "h = h3.latlng_to_cell(lat,lng,9)\n",
    "\n",
    "cells = h3.grid_ring(h, 6) | h3.grid_ring(h, 3)"
   ]
  },
  {
   "cell_type": "code",
   "execution_count": null,
   "id": "pharmaceutical-laugh",
   "metadata": {},
   "outputs": [],
   "source": [
    "mpoly = h3.cells_to_h3shape(cells)"
   ]
  },
  {
   "cell_type": "code",
   "execution_count": null,
   "id": "8155a19f-9953-4f81-88d8-3b6c08de0d65",
   "metadata": {
    "tags": []
   },
   "outputs": [],
   "source": [
    "mpoly"
   ]
  },
  {
   "cell_type": "code",
   "execution_count": null,
   "id": "2476a1bc-1e5a-4dd8-9a91-fc82b2133053",
   "metadata": {
    "tags": []
   },
   "outputs": [],
   "source": [
    "len(mpoly)"
   ]
  },
  {
   "cell_type": "code",
   "execution_count": null,
   "id": "e3a360e3-6f41-4d77-a03d-a9f939bfa351",
   "metadata": {
    "tags": []
   },
   "outputs": [],
   "source": [
    "list(mpoly)"
   ]
  },
  {
   "cell_type": "code",
   "execution_count": null,
   "id": "b0aa3b0d-dbee-408e-b494-f32661571787",
   "metadata": {
    "tags": []
   },
   "outputs": [],
   "source": [
    "for poly in mpoly:\n",
    "    print(poly)"
   ]
  },
  {
   "cell_type": "code",
   "execution_count": null,
   "id": "9bc795de-5d91-47b2-9c28-a2d9b34b07a6",
   "metadata": {
    "tags": []
   },
   "outputs": [],
   "source": [
    "h3.H3Poly(poly.outer)"
   ]
  },
  {
   "cell_type": "code",
   "execution_count": null,
   "id": "d9fbf136-3a94-40df-ae10-ff8b51c0e2c8",
   "metadata": {
    "tags": []
   },
   "outputs": [],
   "source": [
    "mpoly[0]"
   ]
  },
  {
   "cell_type": "code",
   "execution_count": null,
   "id": "subject-socket",
   "metadata": {},
   "outputs": [],
   "source": [
    "h3.h3shape_to_cells(mpoly, 9) == cells"
   ]
  },
  {
   "cell_type": "code",
   "execution_count": null,
   "id": "9379df1d-684a-4626-9c47-eee033b55ef8",
   "metadata": {
    "tags": []
   },
   "outputs": [],
   "source": [
    "str(h3.cells_to_h3shape([]))"
   ]
  },
  {
   "cell_type": "code",
   "execution_count": null,
   "id": "a2f24740-7c02-47c0-ad16-37f46e26b7ea",
   "metadata": {},
   "outputs": [],
   "source": []
  },
  {
   "cell_type": "code",
   "execution_count": null,
   "id": "b3a97d09-a76d-460f-83cb-49a2376ad2c5",
   "metadata": {
    "tags": []
   },
   "outputs": [],
   "source": [
    "cells = h3.h3shape_to_cells(mpoly, 9)"
   ]
  },
  {
   "cell_type": "code",
   "execution_count": null,
   "id": "670e18dc-fa12-438f-ad90-599d4057ed3c",
   "metadata": {
    "tags": []
   },
   "outputs": [],
   "source": [
    "show_geo(mpoly)"
   ]
  },
  {
   "cell_type": "markdown",
   "id": "e38f73ae-d5e0-4b4b-8195-1098849e0059",
   "metadata": {},
   "source": [
    "# example"
   ]
  },
  {
   "cell_type": "code",
   "execution_count": null,
   "id": "35d8f132-a3b2-4ead-8142-7c95343e8d40",
   "metadata": {},
   "outputs": [],
   "source": [
    "import geopandas as gpd\n",
    "import shapely\n",
    "import geodatasets"
   ]
  },
  {
   "cell_type": "code",
   "execution_count": null,
   "id": "07a20f53-0676-4820-b539-201b4575a722",
   "metadata": {},
   "outputs": [],
   "source": [
    "path_to_file = geodatasets.get_path('nybb')"
   ]
  },
  {
   "cell_type": "code",
   "execution_count": null,
   "id": "0c0aa15b-8e67-4075-8675-dc6118a4fe1a",
   "metadata": {},
   "outputs": [],
   "source": [
    "path_to_file"
   ]
  },
  {
   "cell_type": "code",
   "execution_count": null,
   "id": "5ef7ce20-68d1-473a-9838-94c38cb9f7d1",
   "metadata": {},
   "outputs": [],
   "source": [
    "df = gpd.read_file(path_to_file).to_crs(epsg=4326)\n",
    "df"
   ]
  },
  {
   "cell_type": "code",
   "execution_count": null,
   "id": "fb280331-a13e-47ca-9808-1a11884c2bd1",
   "metadata": {},
   "outputs": [],
   "source": [
    "gpd.__version__"
   ]
  },
  {
   "cell_type": "code",
   "execution_count": null,
   "id": "1fbfa7f2-e5b4-4b71-9684-ec3eacc4497f",
   "metadata": {},
   "outputs": [],
   "source": [
    "gpd.datasets.get_path('nybb')"
   ]
  },
  {
   "cell_type": "code",
   "execution_count": null,
   "id": "3f00accb-3b28-49f8-9125-c86686bc499a",
   "metadata": {},
   "outputs": [],
   "source": [
    "import geopandas as gpd\n",
    "import shapely\n",
    "\n",
    "path = gpd.datasets.get_path('nybb')\n",
    "df = gpd.read_file(path).to_crs(epsg=4326)\n",
    "\n",
    "# finding largest polygon in multipolygon\n",
    "polygon = max(df.loc[0, \"geometry\"].geoms, key=lambda a: a.area)\n",
    "assert isinstance(polygon, shapely.geometry.polygon.Polygon)"
   ]
  },
  {
   "cell_type": "code",
   "execution_count": null,
   "id": "c1977bac-34d0-4529-8542-c25da99f0611",
   "metadata": {
    "tags": []
   },
   "outputs": [],
   "source": [
    "df"
   ]
  },
  {
   "cell_type": "code",
   "execution_count": null,
   "id": "b5013bdb-e36c-4e5b-bf4b-613533a08d3f",
   "metadata": {},
   "outputs": [],
   "source": [
    "df.loc[0, \"geometry\"]"
   ]
  },
  {
   "cell_type": "code",
   "execution_count": null,
   "id": "6e36be38-2979-438f-8e6b-611c298647ab",
   "metadata": {
    "tags": []
   },
   "outputs": [],
   "source": [
    "str(df.loc[0, \"geometry\"])[:100]"
   ]
  },
  {
   "cell_type": "code",
   "execution_count": null,
   "id": "4f1e427d-5e76-4fdb-910f-bfea62c2c554",
   "metadata": {
    "tags": []
   },
   "outputs": [],
   "source": [
    "a = df.loc[0, \"geometry\"].geoms\n",
    "len(a)"
   ]
  },
  {
   "cell_type": "code",
   "execution_count": null,
   "id": "d42f15f5-0e3a-46f2-a749-43464764c77c",
   "metadata": {
    "tags": []
   },
   "outputs": [],
   "source": [
    "str(a[0])"
   ]
  },
  {
   "cell_type": "code",
   "execution_count": null,
   "id": "8dc19ca2-8a29-439e-b17f-f716cffc5e59",
   "metadata": {
    "tags": []
   },
   "outputs": [],
   "source": [
    "h3.shape_to_cells(h3.from_geo_interface(polygon), 8)"
   ]
  },
  {
   "cell_type": "code",
   "execution_count": null,
   "id": "eff8b162-7b65-479a-b33d-b6720e042256",
   "metadata": {
    "tags": []
   },
   "outputs": [],
   "source": [
    "#df.loc[0, \"geometry\"].__geo_interface__"
   ]
  },
  {
   "cell_type": "code",
   "execution_count": null,
   "id": "3cac1dc8-7fcc-408c-96eb-35b46aaff343",
   "metadata": {
    "tags": []
   },
   "outputs": [],
   "source": [
    "type(a)"
   ]
  },
  {
   "cell_type": "code",
   "execution_count": null,
   "id": "2cfecad9-455a-4d07-8466-60fd2e651bfc",
   "metadata": {
    "tags": []
   },
   "outputs": [],
   "source": [
    "type(a[0])"
   ]
  },
  {
   "cell_type": "code",
   "execution_count": null,
   "id": "5f4433df-3464-42b0-a642-7aca475858a6",
   "metadata": {
    "tags": []
   },
   "outputs": [],
   "source": [
    "polygon = max(df.loc[0, \"geometry\"].geoms, key=lambda a: a.area)"
   ]
  },
  {
   "cell_type": "code",
   "execution_count": null,
   "id": "474c0a54-8e51-4200-af48-4e3709fdb3b4",
   "metadata": {
    "tags": []
   },
   "outputs": [],
   "source": [
    "type(polygon)"
   ]
  },
  {
   "cell_type": "code",
   "execution_count": null,
   "id": "e68a0007-9a71-40fb-b9e6-20406b9a1877",
   "metadata": {
    "tags": []
   },
   "outputs": [],
   "source": [
    "polygon"
   ]
  },
  {
   "cell_type": "code",
   "execution_count": null,
   "id": "50837efe-1e63-481f-87a2-b49d76f7c618",
   "metadata": {
    "tags": []
   },
   "outputs": [],
   "source": [
    "str(polygon)[:100]"
   ]
  },
  {
   "cell_type": "code",
   "execution_count": null,
   "id": "cf417706-3d41-498d-a8dc-1f049aac0eba",
   "metadata": {
    "tags": []
   },
   "outputs": [],
   "source": [
    "print(str(df.loc[0, \"geometry\"].__geo_interface__)[:200])"
   ]
  },
  {
   "cell_type": "code",
   "execution_count": null,
   "id": "e7726813-efb5-4684-b598-d54305dc5948",
   "metadata": {
    "tags": []
   },
   "outputs": [],
   "source": [
    "print(str(polygon.__geo_interface__)[:200])"
   ]
  },
  {
   "cell_type": "code",
   "execution_count": null,
   "id": "6b0b01d5-822a-4d0e-9159-d607f429c2b8",
   "metadata": {
    "tags": []
   },
   "outputs": [],
   "source": [
    "import h3\n",
    "\n",
    "h3_poly = h3.H3Poly(polygon)\n",
    "assert isinstance(h3_poly, h3.H3Poly)"
   ]
  },
  {
   "cell_type": "code",
   "execution_count": null,
   "id": "6e14b0fb-830f-404d-b5d7-98bfe28d2bcf",
   "metadata": {
    "tags": []
   },
   "outputs": [],
   "source": [
    "type(h3_poly.outer)"
   ]
  },
  {
   "cell_type": "code",
   "execution_count": null,
   "id": "d50a0c75-a372-426f-8393-93af2f733525",
   "metadata": {
    "tags": []
   },
   "outputs": [],
   "source": [
    "h3_poly"
   ]
  },
  {
   "cell_type": "code",
   "execution_count": null,
   "id": "5525d9d8-e2ff-41d0-8ae1-fd7e5be223cc",
   "metadata": {
    "tags": []
   },
   "outputs": [],
   "source": [
    "h3.shape_to_cells(h3_poly, 9) "
   ]
  },
  {
   "cell_type": "code",
   "execution_count": null,
   "id": "76544a12-66d2-412a-86b3-3803755e70f0",
   "metadata": {},
   "outputs": [],
   "source": [
    "type(polygon)"
   ]
  },
  {
   "cell_type": "code",
   "execution_count": null,
   "id": "01313cea-0bae-4223-be92-b6943b040829",
   "metadata": {},
   "outputs": [],
   "source": [
    "h3.shape_to_cells(polygon, 9) == h3.shape_to_cells(h3_poly, 9) "
   ]
  },
  {
   "cell_type": "code",
   "execution_count": null,
   "id": "c0467f06-bec4-4a5d-9782-1a42d1102dd9",
   "metadata": {},
   "outputs": [],
   "source": []
  }
 ],
 "metadata": {
  "kernelspec": {
   "display_name": "Python 3 (ipykernel)",
   "language": "python",
   "name": "python3"
  },
  "language_info": {
   "codemirror_mode": {
    "name": "ipython",
    "version": 3
   },
   "file_extension": ".py",
   "mimetype": "text/x-python",
   "name": "python",
   "nbconvert_exporter": "python",
   "pygments_lexer": "ipython3",
   "version": "3.11.1"
  }
 },
 "nbformat": 4,
 "nbformat_minor": 5
}
