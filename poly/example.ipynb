{
 "cells": [
  {
   "cell_type": "code",
   "execution_count": 1,
   "id": "endangered-correction",
   "metadata": {},
   "outputs": [],
   "source": [
    "import h3\n",
    "import util as u\n",
    "\n",
    "def show_gj_str(gj_str):\n",
    "    import json\n",
    "    from IPython.display import GeoJSON\n",
    "    \n",
    "    return GeoJSON(json.loads(gj_str))"
   ]
  },
  {
   "cell_type": "code",
   "execution_count": 2,
   "id": "differential-grammar",
   "metadata": {},
   "outputs": [],
   "source": [
    "lat, lng = 37.7749, -122.4194\n",
    "h = h3.latlng_to_cell(lat,lng,9)\n",
    "\n",
    "cells = h3.grid_ring(h, 6) | h3.grid_ring(h, 3)"
   ]
  },
  {
   "cell_type": "code",
   "execution_count": 3,
   "id": "pharmaceutical-laugh",
   "metadata": {},
   "outputs": [],
   "source": [
    "mpoly = h3.cells_to_shape(cells)"
   ]
  },
  {
   "cell_type": "code",
   "execution_count": 4,
   "id": "8155a19f-9953-4f81-88d8-3b6c08de0d65",
   "metadata": {
    "tags": []
   },
   "outputs": [
    {
     "data": {
      "text/plain": [
       "H3MultiPoly(<H3Poly |outer|=42, |holes|=(30,)>, <H3Poly |outer|=78, |holes|=(66,)>)"
      ]
     },
     "execution_count": 4,
     "metadata": {},
     "output_type": "execute_result"
    }
   ],
   "source": [
    "mpoly"
   ]
  },
  {
   "cell_type": "code",
   "execution_count": 5,
   "id": "2476a1bc-1e5a-4dd8-9a91-fc82b2133053",
   "metadata": {
    "tags": []
   },
   "outputs": [
    {
     "data": {
      "text/plain": [
       "2"
      ]
     },
     "execution_count": 5,
     "metadata": {},
     "output_type": "execute_result"
    }
   ],
   "source": [
    "len(mpoly)"
   ]
  },
  {
   "cell_type": "code",
   "execution_count": 6,
   "id": "e3a360e3-6f41-4d77-a03d-a9f939bfa351",
   "metadata": {
    "tags": []
   },
   "outputs": [
    {
     "data": {
      "text/plain": [
       "[<H3Poly |outer|=42, |holes|=(30,)>, <H3Poly |outer|=78, |holes|=(66,)>]"
      ]
     },
     "execution_count": 6,
     "metadata": {},
     "output_type": "execute_result"
    }
   ],
   "source": [
    "list(mpoly)"
   ]
  },
  {
   "cell_type": "code",
   "execution_count": 7,
   "id": "b0aa3b0d-dbee-408e-b494-f32661571787",
   "metadata": {
    "tags": []
   },
   "outputs": [
    {
     "name": "stdout",
     "output_type": "stream",
     "text": [
      "<H3Poly |outer|=42, |holes|=(30,)>\n",
      "<H3Poly |outer|=78, |holes|=(66,)>\n"
     ]
    }
   ],
   "source": [
    "for poly in mpoly:\n",
    "    print(poly)"
   ]
  },
  {
   "cell_type": "code",
   "execution_count": 8,
   "id": "d9fbf136-3a94-40df-ae10-ff8b51c0e2c8",
   "metadata": {
    "tags": []
   },
   "outputs": [
    {
     "data": {
      "text/plain": [
       "<H3Poly |outer|=42, |holes|=(30,)>"
      ]
     },
     "execution_count": 8,
     "metadata": {},
     "output_type": "execute_result"
    }
   ],
   "source": [
    "mpoly[0]"
   ]
  },
  {
   "cell_type": "code",
   "execution_count": 5,
   "id": "subject-socket",
   "metadata": {},
   "outputs": [
    {
     "data": {
      "text/plain": [
       "True"
      ]
     },
     "execution_count": 5,
     "metadata": {},
     "output_type": "execute_result"
    }
   ],
   "source": [
    "h3.shape_to_cells(mpoly, 9) == cells"
   ]
  },
  {
   "cell_type": "code",
   "execution_count": 12,
   "id": "9379df1d-684a-4626-9c47-eee033b55ef8",
   "metadata": {
    "tags": []
   },
   "outputs": [
    {
     "data": {
      "text/plain": [
       "'H3MultiPoly()'"
      ]
     },
     "execution_count": 12,
     "metadata": {},
     "output_type": "execute_result"
    }
   ],
   "source": [
    "str(h3.cells_to_shape([]))"
   ]
  },
  {
   "cell_type": "code",
   "execution_count": null,
   "id": "a2f24740-7c02-47c0-ad16-37f46e26b7ea",
   "metadata": {},
   "outputs": [],
   "source": []
  },
  {
   "cell_type": "code",
   "execution_count": 7,
   "id": "b3a97d09-a76d-460f-83cb-49a2376ad2c5",
   "metadata": {
    "tags": []
   },
   "outputs": [],
   "source": [
    "cells = h3.shape_to_cells(mpoly, 9)"
   ]
  },
  {
   "cell_type": "code",
   "execution_count": 8,
   "id": "9002793c-263c-4898-a9b9-270a210789dd",
   "metadata": {},
   "outputs": [
    {
     "ename": "AttributeError",
     "evalue": "module 'h3' has no attribute 'cells_to_polygons'",
     "output_type": "error",
     "traceback": [
      "\u001b[0;31m---------------------------------------------------------------------------\u001b[0m",
      "\u001b[0;31mAttributeError\u001b[0m                            Traceback (most recent call last)",
      "Cell \u001b[0;32mIn[8], line 1\u001b[0m\n\u001b[0;32m----> 1\u001b[0m gjs \u001b[38;5;241m=\u001b[39m \u001b[43mu\u001b[49m\u001b[38;5;241;43m.\u001b[39;49m\u001b[43mcells_to_geojson\u001b[49m\u001b[43m(\u001b[49m\u001b[43mcells\u001b[49m\u001b[43m)\u001b[49m\n",
      "File \u001b[0;32m~/work/h3-py_v4/h3-py/poly/util.py:27\u001b[0m, in \u001b[0;36mcells_to_geojson\u001b[0;34m(cells)\u001b[0m\n\u001b[1;32m     26\u001b[0m \u001b[38;5;28;01mdef\u001b[39;00m \u001b[38;5;21mcells_to_geojson\u001b[39m(cells):\n\u001b[0;32m---> 27\u001b[0m     polys \u001b[38;5;241m=\u001b[39m \u001b[43mh3\u001b[49m\u001b[38;5;241;43m.\u001b[39;49m\u001b[43mcells_to_polygons\u001b[49m(cells)\n\u001b[1;32m     28\u001b[0m     ll3 \u001b[38;5;241m=\u001b[39m _polygons_to_LL3(polys)\n\u001b[1;32m     29\u001b[0m     gj_dict \u001b[38;5;241m=\u001b[39m _LL3_to_geojson_dict(ll3)\n",
      "\u001b[0;31mAttributeError\u001b[0m: module 'h3' has no attribute 'cells_to_polygons'"
     ]
    }
   ],
   "source": [
    "gjs = u.cells_to_geojson(cells)"
   ]
  },
  {
   "cell_type": "code",
   "execution_count": null,
   "id": "absent-frontier",
   "metadata": {},
   "outputs": [],
   "source": [
    "print(gjs[:100])"
   ]
  },
  {
   "cell_type": "code",
   "execution_count": null,
   "id": "meaningful-species",
   "metadata": {},
   "outputs": [],
   "source": [
    "show_gj_str(gjs)"
   ]
  },
  {
   "cell_type": "code",
   "execution_count": null,
   "id": "extreme-english",
   "metadata": {},
   "outputs": [],
   "source": [
    "set(u.geojson_to_cells(gjs,9)) == cells"
   ]
  },
  {
   "cell_type": "markdown",
   "id": "e38f73ae-d5e0-4b4b-8195-1098849e0059",
   "metadata": {},
   "source": [
    "# example"
   ]
  },
  {
   "cell_type": "code",
   "execution_count": null,
   "id": "3f00accb-3b28-49f8-9125-c86686bc499a",
   "metadata": {},
   "outputs": [],
   "source": [
    "import geopandas as gpd\n",
    "import shapely\n",
    "\n",
    "path = gpd.datasets.get_path('nybb')\n",
    "df = gpd.read_file(path).to_crs(epsg=4326)\n",
    "\n",
    "# finding largest polygon in multipolygon\n",
    "polygon = max(df.loc[0, \"geometry\"].geoms, key=lambda a: a.area)\n",
    "assert isinstance(polygon, shapely.geometry.polygon.Polygon)"
   ]
  },
  {
   "cell_type": "code",
   "execution_count": null,
   "id": "c1977bac-34d0-4529-8542-c25da99f0611",
   "metadata": {
    "tags": []
   },
   "outputs": [],
   "source": [
    "df"
   ]
  },
  {
   "cell_type": "code",
   "execution_count": null,
   "id": "6e36be38-2979-438f-8e6b-611c298647ab",
   "metadata": {
    "tags": []
   },
   "outputs": [],
   "source": [
    "str(df.loc[0, \"geometry\"])[:100]"
   ]
  },
  {
   "cell_type": "code",
   "execution_count": null,
   "id": "4f1e427d-5e76-4fdb-910f-bfea62c2c554",
   "metadata": {
    "tags": []
   },
   "outputs": [],
   "source": [
    "a = df.loc[0, \"geometry\"].geoms\n",
    "len(a)"
   ]
  },
  {
   "cell_type": "code",
   "execution_count": null,
   "id": "d42f15f5-0e3a-46f2-a749-43464764c77c",
   "metadata": {
    "tags": []
   },
   "outputs": [],
   "source": [
    "str(a[0])"
   ]
  },
  {
   "cell_type": "code",
   "execution_count": null,
   "id": "2cfecad9-455a-4d07-8466-60fd2e651bfc",
   "metadata": {
    "tags": []
   },
   "outputs": [],
   "source": [
    "type(a[0])"
   ]
  },
  {
   "cell_type": "code",
   "execution_count": null,
   "id": "5f4433df-3464-42b0-a642-7aca475858a6",
   "metadata": {
    "tags": []
   },
   "outputs": [],
   "source": [
    "polygon = max(df.loc[0, \"geometry\"].geoms, key=lambda a: a.area)"
   ]
  },
  {
   "cell_type": "code",
   "execution_count": null,
   "id": "474c0a54-8e51-4200-af48-4e3709fdb3b4",
   "metadata": {
    "tags": []
   },
   "outputs": [],
   "source": [
    "type(polygon)"
   ]
  },
  {
   "cell_type": "code",
   "execution_count": null,
   "id": "e68a0007-9a71-40fb-b9e6-20406b9a1877",
   "metadata": {
    "tags": []
   },
   "outputs": [],
   "source": [
    "polygon"
   ]
  },
  {
   "cell_type": "code",
   "execution_count": null,
   "id": "50837efe-1e63-481f-87a2-b49d76f7c618",
   "metadata": {
    "tags": []
   },
   "outputs": [],
   "source": [
    "str(polygon)[:100]"
   ]
  },
  {
   "cell_type": "code",
   "execution_count": null,
   "id": "cf417706-3d41-498d-a8dc-1f049aac0eba",
   "metadata": {
    "tags": []
   },
   "outputs": [],
   "source": [
    "print(str(df.loc[0, \"geometry\"].__geo_interface__)[:200])"
   ]
  },
  {
   "cell_type": "code",
   "execution_count": null,
   "id": "e7726813-efb5-4684-b598-d54305dc5948",
   "metadata": {
    "tags": []
   },
   "outputs": [],
   "source": [
    "print(str(polygon.__geo_interface__)[:200])"
   ]
  },
  {
   "cell_type": "code",
   "execution_count": null,
   "id": "6b0b01d5-822a-4d0e-9159-d607f429c2b8",
   "metadata": {
    "tags": []
   },
   "outputs": [],
   "source": [
    "import h3\n",
    "\n",
    "h3_poly = h3.H3Poly(polygon)\n",
    "assert isinstance(h3_poly, h3.H3Poly)"
   ]
  },
  {
   "cell_type": "code",
   "execution_count": null,
   "id": "6e14b0fb-830f-404d-b5d7-98bfe28d2bcf",
   "metadata": {
    "tags": []
   },
   "outputs": [],
   "source": [
    "type(h3_poly.outer)"
   ]
  },
  {
   "cell_type": "code",
   "execution_count": null,
   "id": "d50a0c75-a372-426f-8393-93af2f733525",
   "metadata": {
    "tags": []
   },
   "outputs": [],
   "source": [
    "h3_poly"
   ]
  },
  {
   "cell_type": "code",
   "execution_count": null,
   "id": "5525d9d8-e2ff-41d0-8ae1-fd7e5be223cc",
   "metadata": {
    "tags": []
   },
   "outputs": [],
   "source": [
    "# raises \"TypeError: object of type 'Polygon' has no len()\"\n",
    "h3.polygon_to_cells(h3_poly, 9) "
   ]
  },
  {
   "cell_type": "code",
   "execution_count": null,
   "id": "76544a12-66d2-412a-86b3-3803755e70f0",
   "metadata": {},
   "outputs": [],
   "source": []
  }
 ],
 "metadata": {
  "kernelspec": {
   "display_name": "Python 3 (ipykernel)",
   "language": "python",
   "name": "python3"
  },
  "language_info": {
   "codemirror_mode": {
    "name": "ipython",
    "version": 3
   },
   "file_extension": ".py",
   "mimetype": "text/x-python",
   "name": "python",
   "nbconvert_exporter": "python",
   "pygments_lexer": "ipython3",
   "version": "3.11.1"
  }
 },
 "nbformat": 4,
 "nbformat_minor": 5
}
