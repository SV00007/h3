{
 "cells": [
  {
   "cell_type": "code",
   "execution_count": null,
   "id": "595a3eea-392d-44e1-a657-1a2771b08947",
   "metadata": {},
   "outputs": [],
   "source": [
    "import h3\n",
    "import geopandas\n",
    "import geodatasets\n",
    "import contextily as cx\n",
    "import matplotlib.pyplot as plt\n",
    "import pandas as pd"
   ]
  },
  {
   "cell_type": "code",
   "execution_count": null,
   "id": "92bb0020-9c94-474f-90c1-96faa8744759",
   "metadata": {},
   "outputs": [],
   "source": [
    "df = geopandas.read_file(geodatasets.get_path('nybb'))\n",
    "df = df.to_crs(epsg=4326)\n",
    "df.crs"
   ]
  },
  {
   "cell_type": "code",
   "execution_count": null,
   "id": "9df12bd5-b36e-413c-a18a-67ae857f9daf",
   "metadata": {},
   "outputs": [],
   "source": [
    "df"
   ]
  },
  {
   "cell_type": "code",
   "execution_count": null,
   "id": "2763b2c1-341f-46f7-abe4-21a4326d4d56",
   "metadata": {},
   "outputs": [],
   "source": [
    "a = df.geometry.apply(lambda x: h3.geo_to_cells(x, res=8)).apply(h3.cells_to_h3shape)"
   ]
  },
  {
   "cell_type": "code",
   "execution_count": null,
   "id": "69bfe5f4-6f1e-4cc1-9e52-26818f239d51",
   "metadata": {},
   "outputs": [],
   "source": [
    "a"
   ]
  },
  {
   "cell_type": "code",
   "execution_count": null,
   "id": "80838bce-813b-4a14-87a3-9295d9e9c8f1",
   "metadata": {},
   "outputs": [],
   "source": [
    "a[2]"
   ]
  },
  {
   "cell_type": "markdown",
   "id": "361bdce9-51e1-4291-aa8c-22ad3373eb7a",
   "metadata": {},
   "source": [
    "```\n",
    "<H3MultiPoly: <178/(6,)>, <66/(6,)>, <22>, <30>, <10>, <6>, <6>>\n",
    "```"
   ]
  },
  {
   "cell_type": "code",
   "execution_count": null,
   "id": "6da4ee32-b030-4c5a-89c6-788ab80d986c",
   "metadata": {},
   "outputs": [],
   "source": [
    "type(df.geometry[0])"
   ]
  },
  {
   "cell_type": "code",
   "execution_count": null,
   "id": "1b12a4bc-196c-4acb-931e-8cbe76a8d7c1",
   "metadata": {},
   "outputs": [],
   "source": [
    "def foo(df):\n",
    "    df = df.to_crs(epsg=3857)\n",
    "    \n",
    "    ax = df.plot(figsize=(10, 10), alpha=0.5, edgecolor='k', column='BoroName', categorical=True, legend=True, legend_kwds={'loc': 'upper left'})\n",
    "    \n",
    "    ax.get_xaxis().set_visible(False)\n",
    "    ax.get_yaxis().set_visible(False)\n",
    "    \n",
    "    cx.add_basemap(ax, crs=df.crs, source=cx.providers.CartoDB.Positron)"
   ]
  },
  {
   "cell_type": "code",
   "execution_count": null,
   "id": "d76ec57d-83f0-4c69-8c67-6536ca881f65",
   "metadata": {},
   "outputs": [],
   "source": [
    "foo(df)"
   ]
  },
  {
   "cell_type": "code",
   "execution_count": null,
   "id": "c209dbf2-9bcf-4039-ad4d-29262d590771",
   "metadata": {},
   "outputs": [],
   "source": [
    "dfh3 = df.copy()\n",
    "\n",
    "dfh3.geometry = dfh3.geometry.apply(lambda x: h3.geo_to_cells(x, res=9)).apply(h3.cells_to_h3shape)"
   ]
  },
  {
   "cell_type": "code",
   "execution_count": null,
   "id": "6c7e50ac-f1da-4da6-873e-de93c376366c",
   "metadata": {},
   "outputs": [],
   "source": [
    "foo(dfh3)"
   ]
  },
  {
   "cell_type": "code",
   "execution_count": null,
   "id": "2ad7aa3c-e249-4ef7-b760-d25794e405df",
   "metadata": {},
   "outputs": [],
   "source": [
    "import geodatasets as gds\n",
    "import geopandas as gpd\n",
    "import geoviews as gv\n",
    "import cartopy.crs as ccrs\n",
    "\n",
    "gv.extension('bokeh');"
   ]
  },
  {
   "cell_type": "code",
   "execution_count": null,
   "id": "0c9964ae-c52f-464c-ab7c-965794fe918a",
   "metadata": {},
   "outputs": [],
   "source": [
    "def bar(df, epsg):\n",
    "    crs = ccrs.epsg(epsg)\n",
    "    df = df.to_crs(crs)\n",
    "    \n",
    "    tiles = gv.tile_sources.CartoLight\n",
    "    polys = gv.Polygons(df, vdims=['BoroName'], crs=df.crs)\n",
    "\n",
    "    out = tiles * polys.opts(color='BoroName', cmap='Pastel1', tools=['hover'], width=1200, height=800, alpha=0.5, active_tools=['wheel_zoom'], xaxis=None, yaxis=None)\n",
    "\n",
    "    return out"
   ]
  },
  {
   "cell_type": "code",
   "execution_count": null,
   "id": "8a3d3d09-e57c-4985-a246-e2e27ff85157",
   "metadata": {},
   "outputs": [],
   "source": [
    "bar(df, 3857)"
   ]
  },
  {
   "cell_type": "markdown",
   "id": "c6a0ea52-0721-496e-bb1f-50faebd38493",
   "metadata": {},
   "source": [
    "# converting to cells"
   ]
  },
  {
   "cell_type": "code",
   "execution_count": null,
   "id": "c701a9b6-a26d-44b7-beb1-9981d9ea22d3",
   "metadata": {},
   "outputs": [],
   "source": [
    "df = geopandas.read_file(geodatasets.get_path('nybb'))\n",
    "df = df[['BoroName', 'geometry']]\n",
    "df = df.to_crs(epsg=4326)\n",
    "df"
   ]
  },
  {
   "cell_type": "code",
   "execution_count": null,
   "id": "51ca54c4-ad42-4a93-a4be-0b26a8c338cc",
   "metadata": {},
   "outputs": [],
   "source": [
    "df['boro_geo'] = df.BoroName"
   ]
  },
  {
   "cell_type": "code",
   "execution_count": null,
   "id": "5eb3a666-c7c2-4b5c-8917-aba12a2f9e39",
   "metadata": {},
   "outputs": [],
   "source": [
    "res = 9\n",
    "\n",
    "df1 = df.copy()\n",
    "df2 = df.copy()\n",
    "\n",
    "df1['boro_geo'] = df1.BoroName\n",
    "\n",
    "df2.geometry = df2.geometry.apply(lambda x: h3.geo_to_cells(x, res=res)).apply(h3.cells_to_h3shape)\n",
    "df2['boro_geo'] = df2.BoroName + ' H3'\n",
    "df3 = pd.concat([df1, df2])\n",
    "df3"
   ]
  },
  {
   "cell_type": "code",
   "execution_count": null,
   "id": "412b1d82-5932-4c3b-9608-c3397859ab9e",
   "metadata": {},
   "outputs": [],
   "source": [
    "def bar(df, epsg):\n",
    "    crs = ccrs.epsg(epsg)\n",
    "    df = df.to_crs(crs)\n",
    "    \n",
    "    tiles = gv.tile_sources.CartoLight\n",
    "    polys = gv.Polygons(df, crs=df.crs, vdims=['BoroName', 'boro_geo'])\n",
    "\n",
    "    out = tiles * polys.opts(color='BoroName', cmap='Pastel1', tools=['hover'], width=1200, height=800, alpha=0.5, active_tools=['wheel_zoom'], xaxis=None, yaxis=None)\n",
    "\n",
    "    return out"
   ]
  },
  {
   "cell_type": "code",
   "execution_count": null,
   "id": "cbbcb24b-2595-411d-b79d-6b7ffdd9cf66",
   "metadata": {},
   "outputs": [],
   "source": [
    "epsg = 3857\n",
    "crs = ccrs.epsg(epsg)\n",
    "df = df.to_crs(crs)\n",
    "polys = gv.Polygons(df, crs=df.crs, vdims=['BoroName', 'boro_geo'])"
   ]
  },
  {
   "cell_type": "code",
   "execution_count": null,
   "id": "c7ca2340-0efd-4375-9c56-78d3c4a83de5",
   "metadata": {},
   "outputs": [],
   "source": [
    "polys?"
   ]
  },
  {
   "cell_type": "code",
   "execution_count": null,
   "id": "56d880e8-4f3e-4495-91df-26115b5ebd33",
   "metadata": {},
   "outputs": [],
   "source": [
    "bar(df3, 3857)"
   ]
  },
  {
   "cell_type": "code",
   "execution_count": null,
   "id": "5f5b9d67-b953-4c47-a7ed-0ac2b515d19a",
   "metadata": {},
   "outputs": [],
   "source": [
    "df"
   ]
  },
  {
   "cell_type": "code",
   "execution_count": null,
   "id": "a2c148e8-52d8-473e-b164-20a1f207b6ea",
   "metadata": {},
   "outputs": [],
   "source": []
  },
  {
   "cell_type": "code",
   "execution_count": null,
   "id": "cac95253-5960-42ad-9c36-7e55f60a3d55",
   "metadata": {},
   "outputs": [],
   "source": []
  }
 ],
 "metadata": {
  "kernelspec": {
   "display_name": "Python 3 (ipykernel)",
   "language": "python",
   "name": "python3"
  },
  "language_info": {
   "codemirror_mode": {
    "name": "ipython",
    "version": 3
   },
   "file_extension": ".py",
   "mimetype": "text/x-python",
   "name": "python",
   "nbconvert_exporter": "python",
   "pygments_lexer": "ipython3",
   "version": "3.11.2"
  }
 },
 "nbformat": 4,
 "nbformat_minor": 5
}
