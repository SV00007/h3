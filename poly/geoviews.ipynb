{
 "cells": [
  {
   "cell_type": "code",
   "execution_count": null,
   "id": "595a3eea-392d-44e1-a657-1a2771b08947",
   "metadata": {},
   "outputs": [],
   "source": [
    "import geopandas\n",
    "import geodatasets\n",
    "import cartopy.crs as ccrs\n",
    "\n",
    "import geoviews as gv\n",
    "gv.extension('bokeh');\n",
    "\n",
    "def plot_df(df, column=None):\n",
    "    df = df.copy()\n",
    "    df = df.to_crs(ccrs.epsg(3857)) # web mercator\n",
    "\n",
    "    tiles = gv.tile_sources.CartoLight\n",
    "    polys = gv.Polygons(df, vdims=[column], crs=df.crs)\n",
    "    \n",
    "    out = tiles * polys.opts(color=column, cmap='Pastel1', tools=['hover'], width=1200, height=800, alpha=0.5, active_tools=['wheel_zoom'], xaxis=None, yaxis=None)\n",
    "    return out"
   ]
  },
  {
   "cell_type": "code",
   "execution_count": null,
   "id": "92bb0020-9c94-474f-90c1-96faa8744759",
   "metadata": {},
   "outputs": [],
   "source": [
    "df = geopandas.read_file(geodatasets.get_path('nybb'))\n",
    "df = df.to_crs(epsg=4326)"
   ]
  },
  {
   "cell_type": "code",
   "execution_count": null,
   "id": "10ac5a2c-2a80-4a31-a55d-f2b6c63e21f6",
   "metadata": {},
   "outputs": [],
   "source": [
    "plot_df(df, 'BoroName')"
   ]
  },
  {
   "cell_type": "code",
   "execution_count": null,
   "id": "a2c148e8-52d8-473e-b164-20a1f207b6ea",
   "metadata": {},
   "outputs": [],
   "source": []
  },
  {
   "cell_type": "code",
   "execution_count": null,
   "id": "cac95253-5960-42ad-9c36-7e55f60a3d55",
   "metadata": {},
   "outputs": [],
   "source": []
  }
 ],
 "metadata": {
  "kernelspec": {
   "display_name": "Python 3 (ipykernel)",
   "language": "python",
   "name": "python3"
  },
  "language_info": {
   "codemirror_mode": {
    "name": "ipython",
    "version": 3
   },
   "file_extension": ".py",
   "mimetype": "text/x-python",
   "name": "python",
   "nbconvert_exporter": "python",
   "pygments_lexer": "ipython3",
   "version": "3.11.2"
  }
 },
 "nbformat": 4,
 "nbformat_minor": 5
}
